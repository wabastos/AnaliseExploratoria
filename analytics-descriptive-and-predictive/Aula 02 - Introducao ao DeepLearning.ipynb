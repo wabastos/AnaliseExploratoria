{
  "cells": [
    {
      "cell_type": "markdown",
      "id": "ce57c7a4",
      "metadata": {
        "id": "ce57c7a4"
      },
      "source": [
        "## LSTM"
      ]
    },
    {
      "cell_type": "code",
      "execution_count": null,
      "id": "129fa2a1",
      "metadata": {
        "id": "129fa2a1"
      },
      "outputs": [],
      "source": [
        "from datapackage import Package\n",
        "\n",
        "package = Package('https://datahub.io/core/global-temp/datapackage.json')\n",
        "\n",
        "for resource in package.resources:\n",
        "    if resource.descriptor['datahub']['type'] == 'derived/csv':\n",
        "        data = resource.read()\n",
        "\n",
        "data_gcag = data[0:len(data):2][::-1]"
      ]
    },
    {
      "cell_type": "code",
      "execution_count": null,
      "id": "74a1440d",
      "metadata": {
        "id": "74a1440d"
      },
      "outputs": [],
      "source": [
        "import numpy as np\n",
        "from sklearn.preprocessing import MinMaxScaler\n",
        "\n",
        "Y = np.zeros(shape=(len(data_gcag), 1), dtype=np.float32)\n",
        "\n",
        "for i, y in enumerate(data_gcag):\n",
        "    Y[i - 1, 0] = y[2]\n",
        "\n",
        "mmscaler = MinMaxScaler((-1.0, 1.0))\n",
        "Y = mmscaler.fit_transform(Y)"
      ]
    },
    {
      "cell_type": "code",
      "execution_count": null,
      "id": "08a98eda",
      "metadata": {
        "id": "08a98eda"
      },
      "outputs": [],
      "source": [
        "nb_samples = 1600\n",
        "nb_test_samples = 200\n",
        "sequence_length = 20\n",
        "\n",
        "X_ts = np.zeros(shape=(nb_samples - sequence_length, sequence_length, 1), dtype=np.float32)\n",
        "Y_ts = np.zeros(shape=(nb_samples - sequence_length, 1), dtype=np.float32)\n",
        "\n",
        "for i in range(0, nb_samples - sequence_length):\n",
        "    X_ts[i] = Y[i:i + sequence_length]\n",
        "    Y_ts[i] = Y[i + sequence_length]\n",
        "\n",
        "X_ts_train = X_ts[0:nb_samples - nb_test_samples, :]\n",
        "Y_ts_train = Y_ts[0:nb_samples - nb_test_samples]\n",
        "\n",
        "X_ts_test = X_ts[nb_samples - nb_test_samples:, :]\n",
        "Y_ts_test = Y_ts[nb_samples - nb_test_samples:]"
      ]
    },
    {
      "cell_type": "code",
      "execution_count": null,
      "id": "890be11b",
      "metadata": {
        "id": "890be11b"
      },
      "outputs": [],
      "source": [
        "from keras.models import Sequential\n",
        "from keras.layers import LSTM, Dense, Activation,Flatten\n",
        "\n",
        "model = Sequential()\n",
        "\n",
        "#Quando uma LSTM é seguida por outra camada LSTM, a primeira deve ter o parâmetro return_sequences=True. \n",
        "#model.add(LSTM(8, stateful=True, return_sequences=True, batch_input_shape=(20, sequence_length, 1)))\n",
        "\n",
        "model.add(LSTM(8, stateful=True, batch_input_shape=(20, sequence_length, 1)))\n",
        "model.add(Flatten())\n",
        "model.add(Dense(1))\n",
        "model.add(Activation('linear'))"
      ]
    },
    {
      "cell_type": "code",
      "execution_count": null,
      "id": "5ba8a4a1",
      "metadata": {
        "id": "5ba8a4a1"
      },
      "outputs": [],
      "source": [
        "from keras.optimizers import Adam\n",
        "\n",
        "model.compile(optimizer=Adam(learning_rate=0.001, decay=0.0001),\n",
        "              loss='mse',\n",
        "              metrics=['mse'])"
      ]
    },
    {
      "cell_type": "code",
      "execution_count": null,
      "id": "9e040edf",
      "metadata": {
        "scrolled": true,
        "id": "9e040edf",
        "outputId": "380fb756-9c92-4959-82d6-efe0a24648a4"
      },
      "outputs": [
        {
          "name": "stdout",
          "output_type": "stream",
          "text": [
            "Epoch 1/100\n",
            "70/70 [==============================] - 15s 180ms/step - loss: 0.0552 - mse: 0.0552 - val_loss: 0.0282 - val_mse: 0.0282\n",
            "Epoch 2/100\n",
            "70/70 [==============================] - 0s 7ms/step - loss: 0.0211 - mse: 0.0211 - val_loss: 0.0241 - val_mse: 0.0241\n",
            "Epoch 3/100\n",
            "70/70 [==============================] - 0s 6ms/step - loss: 0.0198 - mse: 0.0198 - val_loss: 0.0222 - val_mse: 0.0222\n",
            "Epoch 4/100\n",
            "70/70 [==============================] - 0s 6ms/step - loss: 0.0187 - mse: 0.0187 - val_loss: 0.0213 - val_mse: 0.0213\n",
            "Epoch 5/100\n",
            "70/70 [==============================] - 0s 6ms/step - loss: 0.0179 - mse: 0.0179 - val_loss: 0.0207 - val_mse: 0.0207\n",
            "Epoch 6/100\n",
            "70/70 [==============================] - 0s 6ms/step - loss: 0.0172 - mse: 0.0172 - val_loss: 0.0203 - val_mse: 0.0203\n",
            "Epoch 7/100\n",
            "70/70 [==============================] - 0s 6ms/step - loss: 0.0166 - mse: 0.0166 - val_loss: 0.0199 - val_mse: 0.0199\n",
            "Epoch 8/100\n",
            "70/70 [==============================] - 0s 6ms/step - loss: 0.0161 - mse: 0.0161 - val_loss: 0.0195 - val_mse: 0.0195\n",
            "Epoch 9/100\n",
            "70/70 [==============================] - 0s 6ms/step - loss: 0.0156 - mse: 0.0156 - val_loss: 0.0191 - val_mse: 0.0191\n",
            "Epoch 10/100\n",
            "70/70 [==============================] - 0s 6ms/step - loss: 0.0152 - mse: 0.0152 - val_loss: 0.0188 - val_mse: 0.0188\n",
            "Epoch 11/100\n",
            "70/70 [==============================] - 0s 7ms/step - loss: 0.0148 - mse: 0.0148 - val_loss: 0.0184 - val_mse: 0.0184\n",
            "Epoch 12/100\n",
            "70/70 [==============================] - 0s 7ms/step - loss: 0.0145 - mse: 0.0145 - val_loss: 0.0180 - val_mse: 0.0180\n",
            "Epoch 13/100\n",
            "70/70 [==============================] - 0s 6ms/step - loss: 0.0142 - mse: 0.0142 - val_loss: 0.0175 - val_mse: 0.0175\n",
            "Epoch 14/100\n",
            "70/70 [==============================] - 1s 10ms/step - loss: 0.0139 - mse: 0.0139 - val_loss: 0.0170 - val_mse: 0.0170\n",
            "Epoch 15/100\n",
            "70/70 [==============================] - 0s 6ms/step - loss: 0.0137 - mse: 0.0137 - val_loss: 0.0165 - val_mse: 0.0165\n",
            "Epoch 16/100\n",
            "70/70 [==============================] - 0s 6ms/step - loss: 0.0135 - mse: 0.0135 - val_loss: 0.0160 - val_mse: 0.0160\n",
            "Epoch 17/100\n",
            "70/70 [==============================] - 1s 8ms/step - loss: 0.0134 - mse: 0.0134 - val_loss: 0.0155 - val_mse: 0.0155\n",
            "Epoch 18/100\n",
            "70/70 [==============================] - 0s 7ms/step - loss: 0.0132 - mse: 0.0132 - val_loss: 0.0150 - val_mse: 0.0150\n",
            "Epoch 19/100\n",
            "70/70 [==============================] - 0s 7ms/step - loss: 0.0131 - mse: 0.0131 - val_loss: 0.0145 - val_mse: 0.0145\n",
            "Epoch 20/100\n",
            "70/70 [==============================] - 0s 7ms/step - loss: 0.0129 - mse: 0.0129 - val_loss: 0.0140 - val_mse: 0.0140\n",
            "Epoch 21/100\n",
            "70/70 [==============================] - 0s 7ms/step - loss: 0.0128 - mse: 0.0128 - val_loss: 0.0136 - val_mse: 0.0136\n",
            "Epoch 22/100\n",
            "70/70 [==============================] - 0s 7ms/step - loss: 0.0127 - mse: 0.0127 - val_loss: 0.0132 - val_mse: 0.0132\n",
            "Epoch 23/100\n",
            "70/70 [==============================] - 0s 7ms/step - loss: 0.0126 - mse: 0.0126 - val_loss: 0.0129 - val_mse: 0.0129\n",
            "Epoch 24/100\n",
            "70/70 [==============================] - 0s 7ms/step - loss: 0.0125 - mse: 0.0125 - val_loss: 0.0125 - val_mse: 0.0125\n",
            "Epoch 25/100\n",
            "70/70 [==============================] - 0s 7ms/step - loss: 0.0123 - mse: 0.0123 - val_loss: 0.0122 - val_mse: 0.0122\n",
            "Epoch 26/100\n",
            "70/70 [==============================] - 0s 7ms/step - loss: 0.0122 - mse: 0.0122 - val_loss: 0.0120 - val_mse: 0.0120\n",
            "Epoch 27/100\n",
            "70/70 [==============================] - 0s 7ms/step - loss: 0.0121 - mse: 0.0121 - val_loss: 0.0117 - val_mse: 0.0117\n",
            "Epoch 28/100\n",
            "70/70 [==============================] - 0s 7ms/step - loss: 0.0120 - mse: 0.0120 - val_loss: 0.0115 - val_mse: 0.0115\n",
            "Epoch 29/100\n",
            "70/70 [==============================] - 1s 8ms/step - loss: 0.0119 - mse: 0.0119 - val_loss: 0.0112 - val_mse: 0.0112\n",
            "Epoch 30/100\n",
            "70/70 [==============================] - 1s 8ms/step - loss: 0.0118 - mse: 0.0118 - val_loss: 0.0110 - val_mse: 0.0110\n",
            "Epoch 31/100\n",
            "70/70 [==============================] - 1s 8ms/step - loss: 0.0118 - mse: 0.0118 - val_loss: 0.0109 - val_mse: 0.0109\n",
            "Epoch 32/100\n",
            "70/70 [==============================] - 1s 8ms/step - loss: 0.0117 - mse: 0.0117 - val_loss: 0.0107 - val_mse: 0.0107\n",
            "Epoch 33/100\n",
            "70/70 [==============================] - 0s 7ms/step - loss: 0.0116 - mse: 0.0116 - val_loss: 0.0106 - val_mse: 0.0106\n",
            "Epoch 34/100\n",
            "70/70 [==============================] - 0s 7ms/step - loss: 0.0115 - mse: 0.0115 - val_loss: 0.0104 - val_mse: 0.0104\n",
            "Epoch 35/100\n",
            "70/70 [==============================] - 0s 7ms/step - loss: 0.0114 - mse: 0.0114 - val_loss: 0.0103 - val_mse: 0.0103\n",
            "Epoch 36/100\n",
            "70/70 [==============================] - 0s 7ms/step - loss: 0.0114 - mse: 0.0114 - val_loss: 0.0102 - val_mse: 0.0102\n",
            "Epoch 37/100\n",
            "70/70 [==============================] - 0s 7ms/step - loss: 0.0113 - mse: 0.0113 - val_loss: 0.0101 - val_mse: 0.0101\n",
            "Epoch 38/100\n",
            "70/70 [==============================] - 0s 7ms/step - loss: 0.0113 - mse: 0.0113 - val_loss: 0.0101 - val_mse: 0.0101\n",
            "Epoch 39/100\n",
            "70/70 [==============================] - 1s 10ms/step - loss: 0.0112 - mse: 0.0112 - val_loss: 0.0100 - val_mse: 0.0100\n",
            "Epoch 40/100\n",
            "70/70 [==============================] - 1s 8ms/step - loss: 0.0111 - mse: 0.0111 - val_loss: 0.0099 - val_mse: 0.0099\n",
            "Epoch 41/100\n",
            "70/70 [==============================] - 1s 13ms/step - loss: 0.0111 - mse: 0.0111 - val_loss: 0.0099 - val_mse: 0.0099\n",
            "Epoch 42/100\n",
            "70/70 [==============================] - 1s 8ms/step - loss: 0.0110 - mse: 0.0110 - val_loss: 0.0098 - val_mse: 0.0098\n",
            "Epoch 43/100\n",
            "70/70 [==============================] - 1s 7ms/step - loss: 0.0110 - mse: 0.0110 - val_loss: 0.0098 - val_mse: 0.0098\n",
            "Epoch 44/100\n",
            "70/70 [==============================] - 0s 7ms/step - loss: 0.0110 - mse: 0.0110 - val_loss: 0.0098 - val_mse: 0.0098\n",
            "Epoch 45/100\n",
            "70/70 [==============================] - 0s 7ms/step - loss: 0.0109 - mse: 0.0109 - val_loss: 0.0097 - val_mse: 0.0097\n",
            "Epoch 46/100\n",
            "70/70 [==============================] - 1s 8ms/step - loss: 0.0109 - mse: 0.0109 - val_loss: 0.0097 - val_mse: 0.0097\n",
            "Epoch 47/100\n",
            "70/70 [==============================] - 1s 7ms/step - loss: 0.0108 - mse: 0.0108 - val_loss: 0.0097 - val_mse: 0.0097\n",
            "Epoch 48/100\n",
            "70/70 [==============================] - 1s 11ms/step - loss: 0.0108 - mse: 0.0108 - val_loss: 0.0096 - val_mse: 0.0096\n",
            "Epoch 49/100\n",
            "70/70 [==============================] - 1s 8ms/step - loss: 0.0108 - mse: 0.0108 - val_loss: 0.0096 - val_mse: 0.0096\n",
            "Epoch 50/100\n",
            "70/70 [==============================] - 1s 11ms/step - loss: 0.0107 - mse: 0.0107 - val_loss: 0.0096 - val_mse: 0.0096\n",
            "Epoch 51/100\n",
            "70/70 [==============================] - 1s 8ms/step - loss: 0.0107 - mse: 0.0107 - val_loss: 0.0096 - val_mse: 0.0096\n",
            "Epoch 52/100\n",
            "70/70 [==============================] - 1s 11ms/step - loss: 0.0107 - mse: 0.0107 - val_loss: 0.0096 - val_mse: 0.0096\n",
            "Epoch 53/100\n",
            "70/70 [==============================] - 1s 15ms/step - loss: 0.0106 - mse: 0.0106 - val_loss: 0.0096 - val_mse: 0.0096\n",
            "Epoch 54/100\n",
            "70/70 [==============================] - 1s 12ms/step - loss: 0.0106 - mse: 0.0106 - val_loss: 0.0096 - val_mse: 0.0096\n",
            "Epoch 55/100\n",
            "70/70 [==============================] - 1s 10ms/step - loss: 0.0106 - mse: 0.0106 - val_loss: 0.0095 - val_mse: 0.0095\n",
            "Epoch 56/100\n",
            "70/70 [==============================] - 1s 8ms/step - loss: 0.0105 - mse: 0.0105 - val_loss: 0.0095 - val_mse: 0.0095\n",
            "Epoch 57/100\n",
            "70/70 [==============================] - 1s 9ms/step - loss: 0.0105 - mse: 0.0105 - val_loss: 0.0095 - val_mse: 0.0095\n",
            "Epoch 58/100\n",
            "70/70 [==============================] - 1s 10ms/step - loss: 0.0105 - mse: 0.0105 - val_loss: 0.0095 - val_mse: 0.0095\n",
            "Epoch 59/100\n",
            "70/70 [==============================] - 1s 10ms/step - loss: 0.0105 - mse: 0.0105 - val_loss: 0.0095 - val_mse: 0.0095\n",
            "Epoch 60/100\n",
            "70/70 [==============================] - 1s 7ms/step - loss: 0.0104 - mse: 0.0104 - val_loss: 0.0095 - val_mse: 0.0095\n",
            "Epoch 61/100\n",
            "70/70 [==============================] - 1s 7ms/step - loss: 0.0104 - mse: 0.0104 - val_loss: 0.0095 - val_mse: 0.0095\n",
            "Epoch 62/100\n",
            "70/70 [==============================] - 1s 7ms/step - loss: 0.0104 - mse: 0.0104 - val_loss: 0.0095 - val_mse: 0.0095\n",
            "Epoch 63/100\n"
          ]
        },
        {
          "name": "stdout",
          "output_type": "stream",
          "text": [
            "70/70 [==============================] - 0s 7ms/step - loss: 0.0104 - mse: 0.0104 - val_loss: 0.0095 - val_mse: 0.0095\n",
            "Epoch 64/100\n",
            "70/70 [==============================] - 1s 7ms/step - loss: 0.0103 - mse: 0.0103 - val_loss: 0.0095 - val_mse: 0.0095\n",
            "Epoch 65/100\n",
            "70/70 [==============================] - 0s 7ms/step - loss: 0.0103 - mse: 0.0103 - val_loss: 0.0095 - val_mse: 0.0095\n",
            "Epoch 66/100\n",
            "70/70 [==============================] - 0s 7ms/step - loss: 0.0103 - mse: 0.0103 - val_loss: 0.0095 - val_mse: 0.0095\n",
            "Epoch 67/100\n",
            "70/70 [==============================] - 0s 7ms/step - loss: 0.0103 - mse: 0.0103 - val_loss: 0.0095 - val_mse: 0.0095\n",
            "Epoch 68/100\n",
            "70/70 [==============================] - 0s 6ms/step - loss: 0.0103 - mse: 0.0103 - val_loss: 0.0095 - val_mse: 0.0095\n",
            "Epoch 69/100\n",
            "70/70 [==============================] - 0s 7ms/step - loss: 0.0103 - mse: 0.0103 - val_loss: 0.0095 - val_mse: 0.0095\n",
            "Epoch 70/100\n",
            "70/70 [==============================] - 0s 7ms/step - loss: 0.0102 - mse: 0.0102 - val_loss: 0.0095 - val_mse: 0.0095\n",
            "Epoch 71/100\n",
            "70/70 [==============================] - 0s 6ms/step - loss: 0.0102 - mse: 0.0102 - val_loss: 0.0095 - val_mse: 0.0095\n",
            "Epoch 72/100\n",
            "70/70 [==============================] - 0s 6ms/step - loss: 0.0102 - mse: 0.0102 - val_loss: 0.0095 - val_mse: 0.0095\n",
            "Epoch 73/100\n",
            "70/70 [==============================] - 0s 7ms/step - loss: 0.0102 - mse: 0.0102 - val_loss: 0.0096 - val_mse: 0.0096\n",
            "Epoch 74/100\n",
            "70/70 [==============================] - 0s 7ms/step - loss: 0.0102 - mse: 0.0102 - val_loss: 0.0096 - val_mse: 0.0096\n",
            "Epoch 75/100\n",
            "70/70 [==============================] - 1s 7ms/step - loss: 0.0102 - mse: 0.0102 - val_loss: 0.0096 - val_mse: 0.0096\n",
            "Epoch 76/100\n",
            "70/70 [==============================] - 0s 6ms/step - loss: 0.0102 - mse: 0.0102 - val_loss: 0.0096 - val_mse: 0.0096\n",
            "Epoch 77/100\n",
            "70/70 [==============================] - 0s 6ms/step - loss: 0.0101 - mse: 0.0101 - val_loss: 0.0096 - val_mse: 0.0096\n",
            "Epoch 78/100\n",
            "70/70 [==============================] - 0s 6ms/step - loss: 0.0101 - mse: 0.0101 - val_loss: 0.0096 - val_mse: 0.0096\n",
            "Epoch 79/100\n",
            "70/70 [==============================] - 0s 6ms/step - loss: 0.0101 - mse: 0.0101 - val_loss: 0.0096 - val_mse: 0.0096\n",
            "Epoch 80/100\n",
            "70/70 [==============================] - 0s 6ms/step - loss: 0.0101 - mse: 0.0101 - val_loss: 0.0096 - val_mse: 0.0096\n",
            "Epoch 81/100\n",
            "70/70 [==============================] - 0s 6ms/step - loss: 0.0101 - mse: 0.0101 - val_loss: 0.0096 - val_mse: 0.0096\n",
            "Epoch 82/100\n",
            "70/70 [==============================] - 0s 6ms/step - loss: 0.0100 - mse: 0.0100 - val_loss: 0.0096 - val_mse: 0.0096\n",
            "Epoch 83/100\n",
            "70/70 [==============================] - 0s 6ms/step - loss: 0.0101 - mse: 0.0101 - val_loss: 0.0096 - val_mse: 0.0096\n",
            "Epoch 84/100\n",
            "70/70 [==============================] - 0s 7ms/step - loss: 0.0100 - mse: 0.0100 - val_loss: 0.0096 - val_mse: 0.0096\n",
            "Epoch 85/100\n",
            "70/70 [==============================] - 0s 7ms/step - loss: 0.0101 - mse: 0.0101 - val_loss: 0.0096 - val_mse: 0.0096\n",
            "Epoch 86/100\n",
            "70/70 [==============================] - 0s 7ms/step - loss: 0.0101 - mse: 0.0101 - val_loss: 0.0096 - val_mse: 0.0096\n",
            "Epoch 87/100\n",
            "70/70 [==============================] - 0s 6ms/step - loss: 0.0101 - mse: 0.0101 - val_loss: 0.0097 - val_mse: 0.0097\n",
            "Epoch 88/100\n",
            "70/70 [==============================] - 0s 6ms/step - loss: 0.0101 - mse: 0.0101 - val_loss: 0.0096 - val_mse: 0.0096\n",
            "Epoch 89/100\n",
            "70/70 [==============================] - 0s 6ms/step - loss: 0.0101 - mse: 0.0101 - val_loss: 0.0097 - val_mse: 0.0097\n",
            "Epoch 90/100\n",
            "70/70 [==============================] - 0s 6ms/step - loss: 0.0101 - mse: 0.0101 - val_loss: 0.0097 - val_mse: 0.0097\n",
            "Epoch 91/100\n",
            "70/70 [==============================] - 0s 6ms/step - loss: 0.0101 - mse: 0.0101 - val_loss: 0.0097 - val_mse: 0.0097\n",
            "Epoch 92/100\n",
            "70/70 [==============================] - 0s 6ms/step - loss: 0.0100 - mse: 0.0100 - val_loss: 0.0097 - val_mse: 0.0097\n",
            "Epoch 93/100\n",
            "70/70 [==============================] - 0s 6ms/step - loss: 0.0100 - mse: 0.0100 - val_loss: 0.0097 - val_mse: 0.0097\n",
            "Epoch 94/100\n",
            "70/70 [==============================] - 0s 6ms/step - loss: 0.0100 - mse: 0.0100 - val_loss: 0.0097 - val_mse: 0.0097\n",
            "Epoch 95/100\n",
            "70/70 [==============================] - 1s 7ms/step - loss: 0.0100 - mse: 0.0100 - val_loss: 0.0097 - val_mse: 0.0097\n",
            "Epoch 96/100\n",
            "70/70 [==============================] - 0s 7ms/step - loss: 0.0100 - mse: 0.0100 - val_loss: 0.0097 - val_mse: 0.0097\n",
            "Epoch 97/100\n",
            "70/70 [==============================] - 0s 6ms/step - loss: 0.0100 - mse: 0.0100 - val_loss: 0.0097 - val_mse: 0.0097\n",
            "Epoch 98/100\n",
            "70/70 [==============================] - 0s 6ms/step - loss: 0.0100 - mse: 0.0100 - val_loss: 0.0097 - val_mse: 0.0097\n",
            "Epoch 99/100\n",
            "70/70 [==============================] - 0s 6ms/step - loss: 0.0100 - mse: 0.0100 - val_loss: 0.0097 - val_mse: 0.0097\n",
            "Epoch 100/100\n",
            "70/70 [==============================] - 1s 8ms/step - loss: 0.0100 - mse: 0.0100 - val_loss: 0.0097 - val_mse: 0.0097\n"
          ]
        }
      ],
      "source": [
        "history = model.fit(X_ts_train, Y_ts_train,\n",
        "          batch_size=20,\n",
        "          epochs=100,\n",
        "          shuffle=False,\n",
        "          validation_data=(X_ts_test, Y_ts_test))\n"
      ]
    },
    {
      "cell_type": "code",
      "execution_count": null,
      "id": "b3cb19b5",
      "metadata": {
        "id": "b3cb19b5",
        "outputId": "ff5caaaa-1bc7-4219-9f4c-ba495a79b985"
      },
      "outputs": [
        {
          "name": "stdout",
          "output_type": "stream",
          "text": [
            "dict_keys(['loss', 'mse', 'val_loss', 'val_mse'])\n"
          ]
        },
        {
          "data": {
            "image/png": "[encoded data removed]",
            "text/plain": [
              "<Figure size 432x288 with 1 Axes>"
            ]
          },
          "metadata": {
            "needs_background": "light"
          },
          "output_type": "display_data"
        },
        {
          "data": {
            "image/png": "[encoded data removed]",
            "text/plain": [
              "<Figure size 432x288 with 1 Axes>"
            ]
          },
          "metadata": {
            "needs_background": "light"
          },
          "output_type": "display_data"
        }
      ],
      "source": [
        "import matplotlib.pyplot as plt\n",
        "\n",
        "# list all data in history\n",
        "print(history.history.keys())\n",
        "\n",
        "# summarize history for accuracy\n",
        "plt.plot(history.history['mse'])\n",
        "plt.plot(history.history['val_mse'])\n",
        "plt.title('model mse')\n",
        "plt.ylabel('mse')\n",
        "plt.xlabel('epoch')\n",
        "plt.legend(['train', 'test'], loc='upper left')\n",
        "plt.show()\n",
        "\n",
        "# summarize history for loss\n",
        "plt.plot(history.history['loss'])\n",
        "plt.plot(history.history['val_loss'])\n",
        "plt.title('model loss')\n",
        "plt.ylabel('loss')\n",
        "plt.xlabel('epoch')\n",
        "plt.legend(['train', 'test'], loc='upper left')\n",
        "plt.show()"
      ]
    },
    {
      "cell_type": "code",
      "execution_count": null,
      "id": "59dfd0bf",
      "metadata": {
        "id": "59dfd0bf",
        "outputId": "91e4ce04-dfca-49ef-8625-33be6383fd1c"
      },
      "outputs": [
        {
          "name": "stdout",
          "output_type": "stream",
          "text": [
            "70/70 [==============================] - 1s 3ms/step\n"
          ]
        },
        {
          "data": {
            "image/png": "[encoded data removed]",
            "text/plain": [
              "<Figure size 432x288 with 1 Axes>"
            ]
          },
          "metadata": {
            "needs_background": "light"
          },
          "output_type": "display_data"
        }
      ],
      "source": [
        "# summarize history for loss\n",
        "plt.plot(Y_ts_train)\n",
        "plt.plot(model.predict(X_ts_train, batch_size=20))\n",
        "#plt.title('model loss')\n",
        "#plt.ylabel('loss')\n",
        "#plt.xlabel('epoch')\n",
        "plt.legend(['Dado Real', 'Predição'], loc='upper left')\n",
        "plt.show()"
      ]
    },
    {
      "cell_type": "code",
      "execution_count": null,
      "id": "3e47ffe5",
      "metadata": {
        "id": "3e47ffe5",
        "outputId": "49027f7d-8465-45f4-f62f-982de2101b24"
      },
      "outputs": [
        {
          "name": "stdout",
          "output_type": "stream",
          "text": [
            "9/9 [==============================] - 0s 3ms/step\n"
          ]
        },
        {
          "data": {
            "image/png": "[encoded data removed]",
            "text/plain": [
              "<Figure size 432x288 with 1 Axes>"
            ]
          },
          "metadata": {
            "needs_background": "light"
          },
          "output_type": "display_data"
        }
      ],
      "source": [
        "# summarize history for loss\n",
        "plt.plot(Y_ts_test)\n",
        "plt.plot(model.predict(X_ts_test, batch_size=20))\n",
        "#plt.title('model loss')\n",
        "#plt.ylabel('loss')\n",
        "#plt.xlabel('epoch')\n",
        "plt.legend(['Dado Real', 'Predição'], loc='upper left')\n",
        "plt.show()"
      ]
    },
    {
      "cell_type": "markdown",
      "id": "81d98d9b",
      "metadata": {
        "id": "81d98d9b"
      },
      "source": [
        "## Autoencoder"
      ]
    },
    {
      "cell_type": "markdown",
      "id": "e8f1c33c",
      "metadata": {
        "id": "e8f1c33c"
      },
      "source": [
        "### Standard Autoencoder"
      ]
    },
    {
      "cell_type": "code",
      "execution_count": null,
      "id": "0aa37155",
      "metadata": {
        "id": "0aa37155"
      },
      "outputs": [],
      "source": [
        "import numpy as np\n",
        "from PIL import Image\n",
        "\n",
        "from keras.datasets import fashion_mnist\n",
        "\n",
        "(X_train, _), (_, _) = fashion_mnist.load_data()\n",
        "\n",
        "nb_samples = 1000\n",
        "nb_epochs = 400\n",
        "batch_size = 200\n",
        "code_length = 256\n",
        "\n",
        "X_train = X_train.astype(np.float32)[0:nb_samples] / 255.0\n",
        "\n",
        "width = X_train.shape[1]\n",
        "height = X_train.shape[2]"
      ]
    },
    {
      "cell_type": "code",
      "execution_count": null,
      "id": "f25941cf",
      "metadata": {
        "id": "f25941cf"
      },
      "outputs": [],
      "source": [
        "from keras.layers import Dense, Flatten, Conv2D,Conv2DTranspose\n",
        "import tensorflow.compat.v1 as tf\n",
        "tf.disable_v2_behavior()\n",
        "\n",
        "graph = tf.Graph()\n",
        "\n",
        "with graph.as_default():\n",
        "    input_images = tf.placeholder(tf.float32, shape=(None, width, height, 1))\n",
        "    \n",
        "    r_input_images = tf.image.resize_images(input_images, (32, 32))\n",
        "    \n",
        "    # Encoder\n",
        "    conv_0 = Conv2D(filters=32,\n",
        "                      kernel_size=(3, 3),\n",
        "                      strides=(2, 2),\n",
        "                      activation=tf.nn.relu,\n",
        "                      padding='same')(r_input_images)\n",
        "    \n",
        "    conv_1 = Conv2D(filters=64,\n",
        "                      kernel_size=(3, 3),\n",
        "                      activation=tf.nn.relu,\n",
        "                      padding='same')(conv_0)\n",
        "    \n",
        "    conv_2 = Conv2D(filters=128,\n",
        "                      kernel_size=(3, 3),\n",
        "                      activation=tf.nn.relu,\n",
        "                      padding='same')(conv_1)\n",
        "    \n",
        "    # Code layer\n",
        "    code_input = Flatten()(conv_2)\n",
        "    \n",
        "    code_layer = Dense(units=code_length,\n",
        "                         activation=tf.nn.sigmoid)(code_input)\n",
        "    \n",
        "    # Decoder\n",
        "    decoder_input = tf.reshape(code_layer, (-1, 16, 16, 1))\n",
        "    \n",
        "    convt_0 = Conv2DTranspose(filters=128,\n",
        "                                 kernel_size=(3, 3),\n",
        "                                 strides=(2, 2),\n",
        "                                 activation=tf.nn.relu,\n",
        "                                 padding='same')(decoder_input)\n",
        "    \n",
        "    convt_1 = Conv2DTranspose(filters=64,\n",
        "                                 kernel_size=(3, 3),\n",
        "                                 activation=tf.nn.relu,\n",
        "                                 padding='same')(convt_0)\n",
        "    \n",
        "    convt_2 = Conv2DTranspose(filters=32,\n",
        "                                 kernel_size=(3, 3),\n",
        "                                 activation=tf.nn.relu,\n",
        "                                 padding='same')(convt_1)\n",
        "    \n",
        "    convt_3 = Conv2DTranspose(filters=1,\n",
        "                                 kernel_size=(3, 3),\n",
        "                                 activation=tf.sigmoid,\n",
        "                                 padding='same')(convt_2)\n",
        "    \n",
        "    # Loss\n",
        "    loss = tf.nn.l2_loss(convt_3 - r_input_images)\n",
        "    \n",
        "    # Training step\n",
        "    training_step = tf.train.AdamOptimizer(0.001).minimize(loss)"
      ]
    },
    {
      "cell_type": "code",
      "execution_count": null,
      "id": "73e3182f",
      "metadata": {
        "id": "73e3182f",
        "outputId": "520f9b08-b462-4f39-9a03-8302477ac03d"
      },
      "outputs": [
        {
          "name": "stdout",
          "output_type": "stream",
          "text": [
            "Epoch 1) Total loss: 64295.1083984375\n",
            "Epoch 2) Total loss: 51752.0009765625\n",
            "Epoch 3) Total loss: 39843.7431640625\n",
            "Epoch 4) Total loss: 33155.103515625\n",
            "Epoch 5) Total loss: 27853.87353515625\n",
            "Epoch 6) Total loss: 24710.5244140625\n",
            "Epoch 7) Total loss: 23183.787109375\n",
            "Epoch 8) Total loss: 21983.7578125\n",
            "Epoch 9) Total loss: 21211.9150390625\n",
            "Epoch 10) Total loss: 20439.03369140625\n",
            "Epoch 11) Total loss: 19644.97314453125\n",
            "Epoch 12) Total loss: 19190.537109375\n",
            "Epoch 13) Total loss: 18438.12353515625\n",
            "Epoch 14) Total loss: 18062.25830078125\n",
            "Epoch 15) Total loss: 17476.93310546875\n",
            "Epoch 16) Total loss: 16359.732177734375\n",
            "Epoch 17) Total loss: 15654.0302734375\n",
            "Epoch 18) Total loss: 14311.017578125\n",
            "Epoch 19) Total loss: 12922.913818359375\n",
            "Epoch 20) Total loss: 11595.836181640625\n",
            "Epoch 21) Total loss: 10193.550048828125\n",
            "Epoch 22) Total loss: 8945.36083984375\n",
            "Epoch 23) Total loss: 8041.878173828125\n",
            "Epoch 24) Total loss: 7193.478759765625\n",
            "Epoch 25) Total loss: 6656.6912841796875\n",
            "Epoch 26) Total loss: 6008.807373046875\n",
            "Epoch 27) Total loss: 5554.4425048828125\n",
            "Epoch 28) Total loss: 5200.9197998046875\n",
            "Epoch 29) Total loss: 4945.022705078125\n",
            "Epoch 30) Total loss: 4674.74951171875\n",
            "Epoch 31) Total loss: 4313.741455078125\n",
            "Epoch 32) Total loss: 4108.76025390625\n",
            "Epoch 33) Total loss: 3901.189697265625\n",
            "Epoch 34) Total loss: 3622.8099975585938\n",
            "Epoch 35) Total loss: 4074.0676879882812\n",
            "Epoch 36) Total loss: 3885.3988647460938\n",
            "Epoch 37) Total loss: 4021.9331665039062\n",
            "Epoch 38) Total loss: 3687.3258666992188\n",
            "Epoch 39) Total loss: 3373.254638671875\n",
            "Epoch 40) Total loss: 3233.6331176757812\n",
            "Epoch 41) Total loss: 3019.8585815429688\n",
            "Epoch 42) Total loss: 2880.7300415039062\n",
            "Epoch 43) Total loss: 2774.9628295898438\n",
            "Epoch 44) Total loss: 2667.9990844726562\n",
            "Epoch 45) Total loss: 2564.30908203125\n",
            "Epoch 46) Total loss: 2564.1893310546875\n",
            "Epoch 47) Total loss: 2497.2023315429688\n",
            "Epoch 48) Total loss: 2351.3861694335938\n",
            "Epoch 49) Total loss: 2327.23291015625\n",
            "Epoch 50) Total loss: 2251.135009765625\n",
            "Epoch 51) Total loss: 2218.0958862304688\n",
            "Epoch 52) Total loss: 2163.9909057617188\n",
            "Epoch 53) Total loss: 2136.5760192871094\n",
            "Epoch 54) Total loss: 2119.650115966797\n",
            "Epoch 55) Total loss: 2118.2575073242188\n",
            "Epoch 56) Total loss: 1981.4632263183594\n",
            "Epoch 57) Total loss: 2119.2700805664062\n",
            "Epoch 58) Total loss: 1988.7350463867188\n",
            "Epoch 59) Total loss: 2036.627685546875\n",
            "Epoch 60) Total loss: 1917.0887145996094\n",
            "Epoch 61) Total loss: 1843.63037109375\n",
            "Epoch 62) Total loss: 1775.8367004394531\n",
            "Epoch 63) Total loss: 1711.0089721679688\n",
            "Epoch 64) Total loss: 1702.329345703125\n",
            "Epoch 65) Total loss: 1738.7257080078125\n",
            "Epoch 66) Total loss: 2152.3999938964844\n",
            "Epoch 67) Total loss: 1864.8637084960938\n",
            "Epoch 68) Total loss: 1842.7214050292969\n",
            "Epoch 69) Total loss: 1749.7105407714844\n",
            "Epoch 70) Total loss: 1714.4425048828125\n",
            "Epoch 71) Total loss: 1661.9617004394531\n",
            "Epoch 72) Total loss: 1601.7486267089844\n",
            "Epoch 73) Total loss: 1566.8742980957031\n",
            "Epoch 74) Total loss: 1515.6991577148438\n",
            "Epoch 75) Total loss: 1501.421875\n",
            "Epoch 76) Total loss: 1468.5385131835938\n",
            "Epoch 77) Total loss: 1447.5802612304688\n",
            "Epoch 78) Total loss: 1438.0594177246094\n",
            "Epoch 79) Total loss: 1451.4311218261719\n",
            "Epoch 80) Total loss: 1404.7548828125\n",
            "Epoch 81) Total loss: 1449.0013427734375\n",
            "Epoch 82) Total loss: 1620.7256469726562\n",
            "Epoch 83) Total loss: 1693.6412048339844\n",
            "Epoch 84) Total loss: 1487.1629028320312\n",
            "Epoch 85) Total loss: 1389.8995361328125\n",
            "Epoch 86) Total loss: 1374.4786682128906\n",
            "Epoch 87) Total loss: 1350.2487487792969\n",
            "Epoch 88) Total loss: 1306.2811279296875\n",
            "Epoch 89) Total loss: 1294.9250183105469\n",
            "Epoch 90) Total loss: 1304.5862426757812\n",
            "Epoch 91) Total loss: 1315.7616882324219\n",
            "Epoch 92) Total loss: 1302.9351806640625\n",
            "Epoch 93) Total loss: 1308.7805480957031\n",
            "Epoch 94) Total loss: 1272.0175170898438\n",
            "Epoch 95) Total loss: 1271.2146301269531\n",
            "Epoch 96) Total loss: 1542.4459838867188\n",
            "Epoch 97) Total loss: 1815.0189208984375\n",
            "Epoch 98) Total loss: 1497.9541015625\n",
            "Epoch 99) Total loss: 1408.7191162109375\n",
            "Epoch 100) Total loss: 1290.9255065917969\n",
            "Epoch 101) Total loss: 1280.95263671875\n",
            "Epoch 102) Total loss: 1225.563232421875\n",
            "Epoch 103) Total loss: 1220.5462036132812\n",
            "Epoch 104) Total loss: 1201.973876953125\n",
            "Epoch 105) Total loss: 1185.3078002929688\n",
            "Epoch 106) Total loss: 1178.5372619628906\n",
            "Epoch 107) Total loss: 1160.6710205078125\n",
            "Epoch 108) Total loss: 1164.7133483886719\n",
            "Epoch 109) Total loss: 1154.9349060058594\n",
            "Epoch 110) Total loss: 1115.680419921875\n",
            "Epoch 111) Total loss: 1124.7559814453125\n",
            "Epoch 112) Total loss: 1122.2969055175781\n",
            "Epoch 113) Total loss: 1138.3057861328125\n",
            "Epoch 114) Total loss: 1173.4396667480469\n",
            "Epoch 115) Total loss: 1104.4724731445312\n",
            "Epoch 116) Total loss: 1102.8731994628906\n",
            "Epoch 117) Total loss: 1079.5150451660156\n",
            "Epoch 118) Total loss: 1208.6003723144531\n",
            "Epoch 119) Total loss: 1920.6565551757812\n",
            "Epoch 120) Total loss: 1454.0543823242188\n",
            "Epoch 121) Total loss: 1363.1419067382812\n",
            "Epoch 122) Total loss: 1342.9046020507812\n",
            "Epoch 123) Total loss: 1208.1806640625\n",
            "Epoch 124) Total loss: 1239.2301940917969\n",
            "Epoch 125) Total loss: 1168.1867370605469\n",
            "Epoch 126) Total loss: 1143.7669372558594\n",
            "Epoch 127) Total loss: 1103.9783020019531\n",
            "Epoch 128) Total loss: 1089.1428527832031\n",
            "Epoch 129) Total loss: 1069.6922302246094\n",
            "Epoch 130) Total loss: 1074.9302062988281\n",
            "Epoch 131) Total loss: 1033.6668395996094\n",
            "Epoch 132) Total loss: 1036.7753295898438\n",
            "Epoch 133) Total loss: 1008.6338500976562\n",
            "Epoch 134) Total loss: 1020.5549011230469\n",
            "Epoch 135) Total loss: 1030.464126586914\n",
            "Epoch 136) Total loss: 997.5405120849609\n",
            "Epoch 137) Total loss: 1002.7105865478516\n",
            "Epoch 138) Total loss: 1003.0671691894531\n",
            "Epoch 139) Total loss: 997.3284454345703\n",
            "Epoch 140) Total loss: 976.5772857666016\n",
            "Epoch 141) Total loss: 984.4107666015625\n",
            "Epoch 142) Total loss: 986.8142700195312\n",
            "Epoch 143) Total loss: 981.9919891357422\n",
            "Epoch 144) Total loss: 982.3788909912109\n",
            "Epoch 145) Total loss: 1014.1493377685547\n",
            "Epoch 146) Total loss: 1020.1419982910156\n",
            "Epoch 147) Total loss: 969.5372772216797\n",
            "Epoch 148) Total loss: 960.0910186767578\n",
            "Epoch 149) Total loss: 936.1797180175781\n",
            "Epoch 150) Total loss: 946.9371795654297\n",
            "Epoch 151) Total loss: 1005.810791015625\n",
            "Epoch 152) Total loss: 1312.4517517089844\n",
            "Epoch 153) Total loss: 1159.941665649414\n",
            "Epoch 154) Total loss: 1063.8550109863281\n",
            "Epoch 155) Total loss: 1008.5635223388672\n",
            "Epoch 156) Total loss: 963.3785705566406\n",
            "Epoch 157) Total loss: 997.1202239990234\n",
            "Epoch 158) Total loss: 960.4301147460938\n",
            "Epoch 159) Total loss: 988.461669921875\n",
            "Epoch 160) Total loss: 965.26123046875\n",
            "Epoch 161) Total loss: 936.95068359375\n",
            "Epoch 162) Total loss: 916.3913726806641\n",
            "Epoch 163) Total loss: 924.5376586914062\n",
            "Epoch 164) Total loss: 902.5568695068359\n",
            "Epoch 165) Total loss: 906.6592864990234\n",
            "Epoch 166) Total loss: 905.2653656005859\n",
            "Epoch 167) Total loss: 899.3994445800781\n",
            "Epoch 168) Total loss: 921.5109710693359\n",
            "Epoch 169) Total loss: 992.2485198974609\n",
            "Epoch 170) Total loss: 1177.1953125\n",
            "Epoch 171) Total loss: 965.7817230224609\n",
            "Epoch 172) Total loss: 948.9722747802734\n",
            "Epoch 173) Total loss: 974.4972534179688\n",
            "Epoch 174) Total loss: 924.8116302490234\n",
            "Epoch 175) Total loss: 923.4158782958984\n",
            "Epoch 176) Total loss: 911.813720703125\n",
            "Epoch 177) Total loss: 883.5208740234375\n",
            "Epoch 178) Total loss: 928.1589660644531\n",
            "Epoch 179) Total loss: 879.1836090087891\n",
            "Epoch 180) Total loss: 874.6136322021484\n",
            "Epoch 181) Total loss: 852.4213409423828\n",
            "Epoch 182) Total loss: 855.1402740478516\n",
            "Epoch 183) Total loss: 850.2594909667969\n",
            "Epoch 184) Total loss: 867.197021484375\n",
            "Epoch 185) Total loss: 878.5601043701172\n",
            "Epoch 186) Total loss: 1099.2908020019531\n",
            "Epoch 187) Total loss: 1222.4611511230469\n",
            "Epoch 188) Total loss: 976.7250823974609\n",
            "Epoch 189) Total loss: 966.8572387695312\n",
            "Epoch 190) Total loss: 924.6247100830078\n",
            "Epoch 191) Total loss: 918.2547607421875\n",
            "Epoch 192) Total loss: 881.0668640136719\n",
            "Epoch 193) Total loss: 890.9702453613281\n",
            "Epoch 194) Total loss: 868.2020416259766\n",
            "Epoch 195) Total loss: 873.2769927978516\n",
            "Epoch 196) Total loss: 855.8225555419922\n",
            "Epoch 197) Total loss: 864.7565612792969\n",
            "Epoch 198) Total loss: 856.5422210693359\n",
            "Epoch 199) Total loss: 847.2099304199219\n",
            "Epoch 200) Total loss: 849.0541687011719\n",
            "Epoch 201) Total loss: 818.5462188720703\n",
            "Epoch 202) Total loss: 826.8575592041016\n"
          ]
        },
        {
          "name": "stdout",
          "output_type": "stream",
          "text": [
            "Epoch 203) Total loss: 820.1187438964844\n",
            "Epoch 204) Total loss: 822.1236419677734\n",
            "Epoch 205) Total loss: 837.7859039306641\n",
            "Epoch 206) Total loss: 895.2823944091797\n",
            "Epoch 207) Total loss: 949.7849731445312\n",
            "Epoch 208) Total loss: 835.1707000732422\n",
            "Epoch 209) Total loss: 950.5208740234375\n",
            "Epoch 210) Total loss: 843.6034240722656\n",
            "Epoch 211) Total loss: 858.0288696289062\n",
            "Epoch 212) Total loss: 828.9719543457031\n",
            "Epoch 213) Total loss: 839.8622741699219\n",
            "Epoch 214) Total loss: 876.86083984375\n",
            "Epoch 215) Total loss: 808.6559906005859\n",
            "Epoch 216) Total loss: 827.1439056396484\n",
            "Epoch 217) Total loss: 815.9294281005859\n",
            "Epoch 218) Total loss: 803.5347747802734\n",
            "Epoch 219) Total loss: 775.7478942871094\n",
            "Epoch 220) Total loss: 804.1312408447266\n",
            "Epoch 221) Total loss: 862.3652038574219\n",
            "Epoch 222) Total loss: 959.0742492675781\n",
            "Epoch 223) Total loss: 994.7584991455078\n",
            "Epoch 224) Total loss: 842.5361328125\n",
            "Epoch 225) Total loss: 877.1988067626953\n",
            "Epoch 226) Total loss: 854.4855804443359\n"
          ]
        },
        {
          "ename": "KeyboardInterrupt",
          "evalue": "",
          "output_type": "error",
          "traceback": [
            "\u001b[1;31m---------------------------------------------------------------------------\u001b[0m",
            "\u001b[1;31mKeyboardInterrupt\u001b[0m                         Traceback (most recent call last)",
            "\u001b[1;32m~\\AppData\\Local\\Temp\\ipykernel_20348\\137464787.py\u001b[0m in \u001b[0;36m<module>\u001b[1;34m\u001b[0m\n\u001b[0;32m     17\u001b[0m         _, n_loss = session.run([training_step, loss], \n\u001b[0;32m     18\u001b[0m                                 feed_dict={\n\u001b[1;32m---> 19\u001b[1;33m                                     \u001b[0minput_images\u001b[0m\u001b[1;33m:\u001b[0m \u001b[0mX\u001b[0m\u001b[1;33m\u001b[0m\u001b[1;33m\u001b[0m\u001b[0m\n\u001b[0m\u001b[0;32m     20\u001b[0m                                 })\n\u001b[0;32m     21\u001b[0m         \u001b[0mtotal_loss\u001b[0m \u001b[1;33m+=\u001b[0m \u001b[0mn_loss\u001b[0m\u001b[1;33m\u001b[0m\u001b[1;33m\u001b[0m\u001b[0m\n",
            "\u001b[1;32mD:\\Backup\\Dropbox\\Jupyter\\venv\\lib\\site-packages\\tensorflow\\python\\client\\session.py\u001b[0m in \u001b[0;36mrun\u001b[1;34m(self, fetches, feed_dict, options, run_metadata)\u001b[0m\n\u001b[0;32m    967\u001b[0m     \u001b[1;32mtry\u001b[0m\u001b[1;33m:\u001b[0m\u001b[1;33m\u001b[0m\u001b[1;33m\u001b[0m\u001b[0m\n\u001b[0;32m    968\u001b[0m       result = self._run(None, fetches, feed_dict, options_ptr,\n\u001b[1;32m--> 969\u001b[1;33m                          run_metadata_ptr)\n\u001b[0m\u001b[0;32m    970\u001b[0m       \u001b[1;32mif\u001b[0m \u001b[0mrun_metadata\u001b[0m\u001b[1;33m:\u001b[0m\u001b[1;33m\u001b[0m\u001b[1;33m\u001b[0m\u001b[0m\n\u001b[0;32m    971\u001b[0m         \u001b[0mproto_data\u001b[0m \u001b[1;33m=\u001b[0m \u001b[0mtf_session\u001b[0m\u001b[1;33m.\u001b[0m\u001b[0mTF_GetBuffer\u001b[0m\u001b[1;33m(\u001b[0m\u001b[0mrun_metadata_ptr\u001b[0m\u001b[1;33m)\u001b[0m\u001b[1;33m\u001b[0m\u001b[1;33m\u001b[0m\u001b[0m\n",
            "\u001b[1;32mD:\\Backup\\Dropbox\\Jupyter\\venv\\lib\\site-packages\\tensorflow\\python\\client\\session.py\u001b[0m in \u001b[0;36m_run\u001b[1;34m(self, handle, fetches, feed_dict, options, run_metadata)\u001b[0m\n\u001b[0;32m   1190\u001b[0m     \u001b[1;32mif\u001b[0m \u001b[0mfinal_fetches\u001b[0m \u001b[1;32mor\u001b[0m \u001b[0mfinal_targets\u001b[0m \u001b[1;32mor\u001b[0m \u001b[1;33m(\u001b[0m\u001b[0mhandle\u001b[0m \u001b[1;32mand\u001b[0m \u001b[0mfeed_dict_tensor\u001b[0m\u001b[1;33m)\u001b[0m\u001b[1;33m:\u001b[0m\u001b[1;33m\u001b[0m\u001b[1;33m\u001b[0m\u001b[0m\n\u001b[0;32m   1191\u001b[0m       results = self._do_run(handle, final_targets, final_fetches,\n\u001b[1;32m-> 1192\u001b[1;33m                              feed_dict_tensor, options, run_metadata)\n\u001b[0m\u001b[0;32m   1193\u001b[0m     \u001b[1;32melse\u001b[0m\u001b[1;33m:\u001b[0m\u001b[1;33m\u001b[0m\u001b[1;33m\u001b[0m\u001b[0m\n\u001b[0;32m   1194\u001b[0m       \u001b[0mresults\u001b[0m \u001b[1;33m=\u001b[0m \u001b[1;33m[\u001b[0m\u001b[1;33m]\u001b[0m\u001b[1;33m\u001b[0m\u001b[1;33m\u001b[0m\u001b[0m\n",
            "\u001b[1;32mD:\\Backup\\Dropbox\\Jupyter\\venv\\lib\\site-packages\\tensorflow\\python\\client\\session.py\u001b[0m in \u001b[0;36m_do_run\u001b[1;34m(self, handle, target_list, fetch_list, feed_dict, options, run_metadata)\u001b[0m\n\u001b[0;32m   1370\u001b[0m     \u001b[1;32mif\u001b[0m \u001b[0mhandle\u001b[0m \u001b[1;32mis\u001b[0m \u001b[1;32mNone\u001b[0m\u001b[1;33m:\u001b[0m\u001b[1;33m\u001b[0m\u001b[1;33m\u001b[0m\u001b[0m\n\u001b[0;32m   1371\u001b[0m       return self._do_call(_run_fn, feeds, fetches, targets, options,\n\u001b[1;32m-> 1372\u001b[1;33m                            run_metadata)\n\u001b[0m\u001b[0;32m   1373\u001b[0m     \u001b[1;32melse\u001b[0m\u001b[1;33m:\u001b[0m\u001b[1;33m\u001b[0m\u001b[1;33m\u001b[0m\u001b[0m\n\u001b[0;32m   1374\u001b[0m       \u001b[1;32mreturn\u001b[0m \u001b[0mself\u001b[0m\u001b[1;33m.\u001b[0m\u001b[0m_do_call\u001b[0m\u001b[1;33m(\u001b[0m\u001b[0m_prun_fn\u001b[0m\u001b[1;33m,\u001b[0m \u001b[0mhandle\u001b[0m\u001b[1;33m,\u001b[0m \u001b[0mfeeds\u001b[0m\u001b[1;33m,\u001b[0m \u001b[0mfetches\u001b[0m\u001b[1;33m)\u001b[0m\u001b[1;33m\u001b[0m\u001b[1;33m\u001b[0m\u001b[0m\n",
            "\u001b[1;32mD:\\Backup\\Dropbox\\Jupyter\\venv\\lib\\site-packages\\tensorflow\\python\\client\\session.py\u001b[0m in \u001b[0;36m_do_call\u001b[1;34m(self, fn, *args)\u001b[0m\n\u001b[0;32m   1376\u001b[0m   \u001b[1;32mdef\u001b[0m \u001b[0m_do_call\u001b[0m\u001b[1;33m(\u001b[0m\u001b[0mself\u001b[0m\u001b[1;33m,\u001b[0m \u001b[0mfn\u001b[0m\u001b[1;33m,\u001b[0m \u001b[1;33m*\u001b[0m\u001b[0margs\u001b[0m\u001b[1;33m)\u001b[0m\u001b[1;33m:\u001b[0m\u001b[1;33m\u001b[0m\u001b[1;33m\u001b[0m\u001b[0m\n\u001b[0;32m   1377\u001b[0m     \u001b[1;32mtry\u001b[0m\u001b[1;33m:\u001b[0m\u001b[1;33m\u001b[0m\u001b[1;33m\u001b[0m\u001b[0m\n\u001b[1;32m-> 1378\u001b[1;33m       \u001b[1;32mreturn\u001b[0m \u001b[0mfn\u001b[0m\u001b[1;33m(\u001b[0m\u001b[1;33m*\u001b[0m\u001b[0margs\u001b[0m\u001b[1;33m)\u001b[0m\u001b[1;33m\u001b[0m\u001b[1;33m\u001b[0m\u001b[0m\n\u001b[0m\u001b[0;32m   1379\u001b[0m     \u001b[1;32mexcept\u001b[0m \u001b[0merrors\u001b[0m\u001b[1;33m.\u001b[0m\u001b[0mOpError\u001b[0m \u001b[1;32mas\u001b[0m \u001b[0me\u001b[0m\u001b[1;33m:\u001b[0m\u001b[1;33m\u001b[0m\u001b[1;33m\u001b[0m\u001b[0m\n\u001b[0;32m   1380\u001b[0m       \u001b[0mmessage\u001b[0m \u001b[1;33m=\u001b[0m \u001b[0mcompat\u001b[0m\u001b[1;33m.\u001b[0m\u001b[0mas_text\u001b[0m\u001b[1;33m(\u001b[0m\u001b[0me\u001b[0m\u001b[1;33m.\u001b[0m\u001b[0mmessage\u001b[0m\u001b[1;33m)\u001b[0m\u001b[1;33m\u001b[0m\u001b[1;33m\u001b[0m\u001b[0m\n",
            "\u001b[1;32mD:\\Backup\\Dropbox\\Jupyter\\venv\\lib\\site-packages\\tensorflow\\python\\client\\session.py\u001b[0m in \u001b[0;36m_run_fn\u001b[1;34m(feed_dict, fetch_list, target_list, options, run_metadata)\u001b[0m\n\u001b[0;32m   1360\u001b[0m       \u001b[0mself\u001b[0m\u001b[1;33m.\u001b[0m\u001b[0m_extend_graph\u001b[0m\u001b[1;33m(\u001b[0m\u001b[1;33m)\u001b[0m\u001b[1;33m\u001b[0m\u001b[1;33m\u001b[0m\u001b[0m\n\u001b[0;32m   1361\u001b[0m       return self._call_tf_sessionrun(options, feed_dict, fetch_list,\n\u001b[1;32m-> 1362\u001b[1;33m                                       target_list, run_metadata)\n\u001b[0m\u001b[0;32m   1363\u001b[0m \u001b[1;33m\u001b[0m\u001b[0m\n\u001b[0;32m   1364\u001b[0m     \u001b[1;32mdef\u001b[0m \u001b[0m_prun_fn\u001b[0m\u001b[1;33m(\u001b[0m\u001b[0mhandle\u001b[0m\u001b[1;33m,\u001b[0m \u001b[0mfeed_dict\u001b[0m\u001b[1;33m,\u001b[0m \u001b[0mfetch_list\u001b[0m\u001b[1;33m)\u001b[0m\u001b[1;33m:\u001b[0m\u001b[1;33m\u001b[0m\u001b[1;33m\u001b[0m\u001b[0m\n",
            "\u001b[1;32mD:\\Backup\\Dropbox\\Jupyter\\venv\\lib\\site-packages\\tensorflow\\python\\client\\session.py\u001b[0m in \u001b[0;36m_call_tf_sessionrun\u001b[1;34m(self, options, feed_dict, fetch_list, target_list, run_metadata)\u001b[0m\n\u001b[0;32m   1454\u001b[0m     return tf_session.TF_SessionRun_wrapper(self._session, options, feed_dict,\n\u001b[0;32m   1455\u001b[0m                                             \u001b[0mfetch_list\u001b[0m\u001b[1;33m,\u001b[0m \u001b[0mtarget_list\u001b[0m\u001b[1;33m,\u001b[0m\u001b[1;33m\u001b[0m\u001b[1;33m\u001b[0m\u001b[0m\n\u001b[1;32m-> 1456\u001b[1;33m                                             run_metadata)\n\u001b[0m\u001b[0;32m   1457\u001b[0m \u001b[1;33m\u001b[0m\u001b[0m\n\u001b[0;32m   1458\u001b[0m   \u001b[1;32mdef\u001b[0m \u001b[0m_call_tf_sessionprun\u001b[0m\u001b[1;33m(\u001b[0m\u001b[0mself\u001b[0m\u001b[1;33m,\u001b[0m \u001b[0mhandle\u001b[0m\u001b[1;33m,\u001b[0m \u001b[0mfeed_dict\u001b[0m\u001b[1;33m,\u001b[0m \u001b[0mfetch_list\u001b[0m\u001b[1;33m)\u001b[0m\u001b[1;33m:\u001b[0m\u001b[1;33m\u001b[0m\u001b[1;33m\u001b[0m\u001b[0m\n",
            "\u001b[1;31mKeyboardInterrupt\u001b[0m: "
          ]
        }
      ],
      "source": [
        "import numpy as np\n",
        "import tensorflow.compat.v1 as tf\n",
        "tf.disable_v2_behavior()\n",
        "\n",
        "session = tf.InteractiveSession(graph=graph)\n",
        "tf.global_variables_initializer().run()\n",
        "\n",
        "for e in range(nb_epochs):\n",
        "    np.random.shuffle(X_train)\n",
        "    \n",
        "    total_loss = 0.0\n",
        "    \n",
        "    for i in range(0, nb_samples - batch_size, batch_size):\n",
        "        X = np.zeros((batch_size, width, height, 1), dtype=np.float32)\n",
        "        X[:, :, :, 0] = X_train[i:i + batch_size, :, :]\n",
        "        \n",
        "        _, n_loss = session.run([training_step, loss], \n",
        "                                feed_dict={\n",
        "                                    input_images: X\n",
        "                                })\n",
        "        total_loss += n_loss\n",
        "        \n",
        "    print('Epoch {}) Total loss: {}'.format(e + 1, total_loss))"
      ]
    },
    {
      "cell_type": "code",
      "execution_count": null,
      "id": "544a5b47",
      "metadata": {
        "id": "544a5b47",
        "outputId": "199ec39b-be4f-4f28-b440-cd2e0527c382"
      },
      "outputs": [
        {
          "name": "stdout",
          "output_type": "stream",
          "text": [
            "0.5324642\n"
          ]
        }
      ],
      "source": [
        "import numpy as np\n",
        "\n",
        "codes = session.run([code_layer], \n",
        "                    feed_dict={\n",
        "                        input_images: np.expand_dims(X_train, axis=3),\n",
        "                    })[0]\n",
        "\n",
        "print(np.mean(codes))"
      ]
    },
    {
      "cell_type": "code",
      "execution_count": null,
      "id": "ccfd374f",
      "metadata": {
        "id": "ccfd374f"
      },
      "outputs": [],
      "source": [
        "import numpy as np\n",
        "\n",
        "Xs = np.reshape(X_train[0:10], (10, width, height, 1))\n",
        "\n",
        "Ys = session.run([convt_3], \n",
        "                 feed_dict={\n",
        "                     input_images: Xs\n",
        "                })\n",
        "\n",
        "Ys = np.squeeze(Ys[0] * 255.0)"
      ]
    },
    {
      "cell_type": "code",
      "execution_count": null,
      "id": "c33ced51",
      "metadata": {
        "id": "c33ced51",
        "outputId": "451ef25a-7af9-4209-9e23-9b434c7c2014"
      },
      "outputs": [
        {
          "data": {
            "image/png": "[encoded data removed]",
            "text/plain": [
              "<PIL.Image.Image image mode=RGB size=28x28>"
            ]
          },
          "metadata": {},
          "output_type": "display_data"
        },
        {
          "data": {
            "image/png": "[encoded data removed]",
            "text/plain": [
              "<PIL.Image.Image image mode=RGB size=28x28>"
            ]
          },
          "metadata": {},
          "output_type": "display_data"
        },
        {
          "data": {
            "image/png": "[encoded data removed]",
            "text/plain": [
              "<PIL.Image.Image image mode=RGB size=28x28>"
            ]
          },
          "metadata": {},
          "output_type": "display_data"
        },
        {
          "data": {
            "image/png": "[encoded data removed]",
            "text/plain": [
              "<PIL.Image.Image image mode=RGB size=28x28>"
            ]
          },
          "metadata": {},
          "output_type": "display_data"
        },
        {
          "data": {
            "image/png": "[encoded data removed]",
            "text/plain": [
              "<PIL.Image.Image image mode=RGB size=28x28>"
            ]
          },
          "metadata": {},
          "output_type": "display_data"
        },
        {
          "data": {
            "image/png": "[encoded data removed]",
            "text/plain": [
              "<PIL.Image.Image image mode=RGB size=28x28>"
            ]
          },
          "metadata": {},
          "output_type": "display_data"
        },
        {
          "data": {
            "image/png": "[encoded data removed]",
            "text/plain": [
              "<PIL.Image.Image image mode=RGB size=28x28>"
            ]
          },
          "metadata": {},
          "output_type": "display_data"
        },
        {
          "data": {
            "image/png": "[encoded data removed]",
            "text/plain": [
              "<PIL.Image.Image image mode=RGB size=28x28>"
            ]
          },
          "metadata": {},
          "output_type": "display_data"
        },
        {
          "data": {
            "image/png": "[encoded data removed]",
            "text/plain": [
              "<PIL.Image.Image image mode=RGB size=28x28>"
            ]
          },
          "metadata": {},
          "output_type": "display_data"
        },
        {
          "data": {
            "image/png": "[encoded data removed]",
            "text/plain": [
              "<PIL.Image.Image image mode=RGB size=28x28>"
            ]
          },
          "metadata": {},
          "output_type": "display_data"
        },
        {
          "data": {
            "image/png": "[encoded data removed]",
            "text/plain": [
              "<PIL.Image.Image image mode=RGB size=28x28>"
            ]
          },
          "metadata": {},
          "output_type": "display_data"
        },
        {
          "data": {
            "image/png": "[encoded data removed]",
            "text/plain": [
              "<PIL.Image.Image image mode=RGB size=28x28>"
            ]
          },
          "metadata": {},
          "output_type": "display_data"
        },
        {
          "data": {
            "image/png": "[encoded data removed]",
            "text/plain": [
              "<PIL.Image.Image image mode=RGB size=28x28>"
            ]
          },
          "metadata": {},
          "output_type": "display_data"
        },
        {
          "data": {
            "image/png": "[encoded data removed]",
            "text/plain": [
              "<PIL.Image.Image image mode=RGB size=28x28>"
            ]
          },
          "metadata": {},
          "output_type": "display_data"
        },
        {
          "data": {
            "image/png": "[encoded data removed]",
            "text/plain": [
              "<PIL.Image.Image image mode=RGB size=28x28>"
            ]
          },
          "metadata": {},
          "output_type": "display_data"
        },
        {
          "data": {
            "image/png": "[encoded data removed]",
            "text/plain": [
              "<PIL.Image.Image image mode=RGB size=28x28>"
            ]
          },
          "metadata": {},
          "output_type": "display_data"
        },
        {
          "data": {
            "image/png": "[encoded data removed]",
            "text/plain": [
              "<PIL.Image.Image image mode=RGB size=28x28>"
            ]
          },
          "metadata": {},
          "output_type": "display_data"
        },
        {
          "data": {
            "image/png": "[encoded data removed]",
            "text/plain": [
              "<PIL.Image.Image image mode=RGB size=28x28>"
            ]
          },
          "metadata": {},
          "output_type": "display_data"
        },
        {
          "data": {
            "image/png": "[encoded data removed]",
            "text/plain": [
              "<PIL.Image.Image image mode=RGB size=28x28>"
            ]
          },
          "metadata": {},
          "output_type": "display_data"
        },
        {
          "data": {
            "image/png": "[encoded data removed]",
            "text/plain": [
              "<PIL.Image.Image image mode=RGB size=28x28>"
            ]
          },
          "metadata": {},
          "output_type": "display_data"
        }
      ],
      "source": [
        "    for i in range(0,10):\n",
        "        im = Image.fromarray(X_train[i] * 255.0)\n",
        "        if im.mode != 'RGB':\n",
        "            im = im.convert('RGB')\n",
        "        IPython.display.display(im)\n",
        "\n",
        "        im = Image.fromarray(Ys[i])\n",
        "        if im.mode != 'RGB':\n",
        "            im = im.convert('RGB')\n",
        "        IPython.display.display(im)"
      ]
    },
    {
      "cell_type": "markdown",
      "id": "d9743c1a",
      "metadata": {
        "id": "d9743c1a"
      },
      "source": [
        "### denoising autoencoder"
      ]
    },
    {
      "cell_type": "code",
      "execution_count": null,
      "id": "71007f05",
      "metadata": {
        "id": "71007f05"
      },
      "outputs": [],
      "source": [
        "import tensorflow.compat.v1 as tf\n",
        "tf.disable_v2_behavior()\n",
        "\n",
        "graph = tf.Graph()\n",
        "\n",
        "with graph.as_default():\n",
        "    input_noisy_images = tf.placeholder(tf.float32, shape=(None, width, height, 1))\n",
        "    input_images = tf.placeholder(tf.float32, shape=(None, width, height, 1))\n",
        "  \n",
        "    # Encoder\n",
        "    conv_0 = Conv2D(filters=32,\n",
        "                      kernel_size=(3, 3),\n",
        "                      activation=tf.nn.relu,\n",
        "                      padding='same')(input_noisy_images)\n",
        "    \n",
        "    conv_1 = Conv2D(filters=64,\n",
        "                      kernel_size=(3, 3),\n",
        "                      activation=tf.nn.relu,\n",
        "                      padding='same')(conv_0)\n",
        "    \n",
        "    conv_2 = Conv2D(filters=128,\n",
        "                      kernel_size=(3, 3),\n",
        "                      activation=tf.nn.relu,\n",
        "                      padding='same')(conv_1)\n",
        "    \n",
        "    # Code layer\n",
        "    code_input = Flatten()(conv_2)\n",
        "    \n",
        "    code_layer = Dense(units=width * height,\n",
        "                         activation=tf.nn.sigmoid)(code_input)    \n",
        "    # Decoder\n",
        "    decoder_input = tf.reshape(code_layer, (-1, width, height, 1))\n",
        "    \n",
        "    convt_0 = Conv2DTranspose(filters=128,\n",
        "                                 kernel_size=(3, 3),\n",
        "                                 activation=tf.nn.relu,\n",
        "                                 padding='same')(decoder_input)\n",
        "    \n",
        "    convt_1 = Conv2DTranspose(filters=64,\n",
        "                                 kernel_size=(3, 3),\n",
        "                                 activation=tf.nn.relu,\n",
        "                                 padding='same')(convt_0)\n",
        "    \n",
        "    convt_2 = Conv2DTranspose(filters=32,\n",
        "                                 kernel_size=(3, 3),\n",
        "                                 activation=tf.nn.relu,\n",
        "                                 padding='same')(convt_1)\n",
        "    \n",
        "    convt_3 = Conv2DTranspose(filters=1,\n",
        "                                 kernel_size=(3, 3),\n",
        "                                 activation=tf.sigmoid,\n",
        "                                 padding='same')(convt_2)\n",
        "    \n",
        "    # Loss\n",
        "    loss = tf.nn.l2_loss(convt_3 - input_images)\n",
        "    \n",
        "    # Training step\n",
        "    training_step = tf.train.AdamOptimizer(0.001).minimize(loss)"
      ]
    },
    {
      "cell_type": "code",
      "execution_count": null,
      "id": "ba092a87",
      "metadata": {
        "id": "ba092a87",
        "outputId": "02ede3c7-2e56-4557-a07b-746ccd121e7c"
      },
      "outputs": [
        {
          "name": "stdout",
          "output_type": "stream",
          "text": [
            "Epoch 1) Total loss: 45172.6357421875\n",
            "Epoch 2) Total loss: 32639.70751953125\n"
          ]
        },
        {
          "ename": "KeyboardInterrupt",
          "evalue": "",
          "output_type": "error",
          "traceback": [
            "\u001b[1;31m---------------------------------------------------------------------------\u001b[0m",
            "\u001b[1;31mKeyboardInterrupt\u001b[0m                         Traceback (most recent call last)",
            "\u001b[1;32m~\\AppData\\Local\\Temp\\ipykernel_20348\\3901172720.py\u001b[0m in \u001b[0;36m<module>\u001b[1;34m\u001b[0m\n\u001b[0;32m     18\u001b[0m                                 feed_dict={\n\u001b[0;32m     19\u001b[0m                                     \u001b[0minput_images\u001b[0m\u001b[1;33m:\u001b[0m \u001b[0mX\u001b[0m\u001b[1;33m,\u001b[0m\u001b[1;33m\u001b[0m\u001b[1;33m\u001b[0m\u001b[0m\n\u001b[1;32m---> 20\u001b[1;33m                                     \u001b[0minput_noisy_images\u001b[0m\u001b[1;33m:\u001b[0m \u001b[0mXn\u001b[0m\u001b[1;33m\u001b[0m\u001b[1;33m\u001b[0m\u001b[0m\n\u001b[0m\u001b[0;32m     21\u001b[0m                                 })\n\u001b[0;32m     22\u001b[0m         \u001b[0mtotal_loss\u001b[0m \u001b[1;33m+=\u001b[0m \u001b[0mn_loss\u001b[0m\u001b[1;33m\u001b[0m\u001b[1;33m\u001b[0m\u001b[0m\n",
            "\u001b[1;32mD:\\Backup\\Dropbox\\Jupyter\\venv\\lib\\site-packages\\tensorflow\\python\\client\\session.py\u001b[0m in \u001b[0;36mrun\u001b[1;34m(self, fetches, feed_dict, options, run_metadata)\u001b[0m\n\u001b[0;32m    967\u001b[0m     \u001b[1;32mtry\u001b[0m\u001b[1;33m:\u001b[0m\u001b[1;33m\u001b[0m\u001b[1;33m\u001b[0m\u001b[0m\n\u001b[0;32m    968\u001b[0m       result = self._run(None, fetches, feed_dict, options_ptr,\n\u001b[1;32m--> 969\u001b[1;33m                          run_metadata_ptr)\n\u001b[0m\u001b[0;32m    970\u001b[0m       \u001b[1;32mif\u001b[0m \u001b[0mrun_metadata\u001b[0m\u001b[1;33m:\u001b[0m\u001b[1;33m\u001b[0m\u001b[1;33m\u001b[0m\u001b[0m\n\u001b[0;32m    971\u001b[0m         \u001b[0mproto_data\u001b[0m \u001b[1;33m=\u001b[0m \u001b[0mtf_session\u001b[0m\u001b[1;33m.\u001b[0m\u001b[0mTF_GetBuffer\u001b[0m\u001b[1;33m(\u001b[0m\u001b[0mrun_metadata_ptr\u001b[0m\u001b[1;33m)\u001b[0m\u001b[1;33m\u001b[0m\u001b[1;33m\u001b[0m\u001b[0m\n",
            "\u001b[1;32mD:\\Backup\\Dropbox\\Jupyter\\venv\\lib\\site-packages\\tensorflow\\python\\client\\session.py\u001b[0m in \u001b[0;36m_run\u001b[1;34m(self, handle, fetches, feed_dict, options, run_metadata)\u001b[0m\n\u001b[0;32m   1190\u001b[0m     \u001b[1;32mif\u001b[0m \u001b[0mfinal_fetches\u001b[0m \u001b[1;32mor\u001b[0m \u001b[0mfinal_targets\u001b[0m \u001b[1;32mor\u001b[0m \u001b[1;33m(\u001b[0m\u001b[0mhandle\u001b[0m \u001b[1;32mand\u001b[0m \u001b[0mfeed_dict_tensor\u001b[0m\u001b[1;33m)\u001b[0m\u001b[1;33m:\u001b[0m\u001b[1;33m\u001b[0m\u001b[1;33m\u001b[0m\u001b[0m\n\u001b[0;32m   1191\u001b[0m       results = self._do_run(handle, final_targets, final_fetches,\n\u001b[1;32m-> 1192\u001b[1;33m                              feed_dict_tensor, options, run_metadata)\n\u001b[0m\u001b[0;32m   1193\u001b[0m     \u001b[1;32melse\u001b[0m\u001b[1;33m:\u001b[0m\u001b[1;33m\u001b[0m\u001b[1;33m\u001b[0m\u001b[0m\n\u001b[0;32m   1194\u001b[0m       \u001b[0mresults\u001b[0m \u001b[1;33m=\u001b[0m \u001b[1;33m[\u001b[0m\u001b[1;33m]\u001b[0m\u001b[1;33m\u001b[0m\u001b[1;33m\u001b[0m\u001b[0m\n",
            "\u001b[1;32mD:\\Backup\\Dropbox\\Jupyter\\venv\\lib\\site-packages\\tensorflow\\python\\client\\session.py\u001b[0m in \u001b[0;36m_do_run\u001b[1;34m(self, handle, target_list, fetch_list, feed_dict, options, run_metadata)\u001b[0m\n\u001b[0;32m   1370\u001b[0m     \u001b[1;32mif\u001b[0m \u001b[0mhandle\u001b[0m \u001b[1;32mis\u001b[0m \u001b[1;32mNone\u001b[0m\u001b[1;33m:\u001b[0m\u001b[1;33m\u001b[0m\u001b[1;33m\u001b[0m\u001b[0m\n\u001b[0;32m   1371\u001b[0m       return self._do_call(_run_fn, feeds, fetches, targets, options,\n\u001b[1;32m-> 1372\u001b[1;33m                            run_metadata)\n\u001b[0m\u001b[0;32m   1373\u001b[0m     \u001b[1;32melse\u001b[0m\u001b[1;33m:\u001b[0m\u001b[1;33m\u001b[0m\u001b[1;33m\u001b[0m\u001b[0m\n\u001b[0;32m   1374\u001b[0m       \u001b[1;32mreturn\u001b[0m \u001b[0mself\u001b[0m\u001b[1;33m.\u001b[0m\u001b[0m_do_call\u001b[0m\u001b[1;33m(\u001b[0m\u001b[0m_prun_fn\u001b[0m\u001b[1;33m,\u001b[0m \u001b[0mhandle\u001b[0m\u001b[1;33m,\u001b[0m \u001b[0mfeeds\u001b[0m\u001b[1;33m,\u001b[0m \u001b[0mfetches\u001b[0m\u001b[1;33m)\u001b[0m\u001b[1;33m\u001b[0m\u001b[1;33m\u001b[0m\u001b[0m\n",
            "\u001b[1;32mD:\\Backup\\Dropbox\\Jupyter\\venv\\lib\\site-packages\\tensorflow\\python\\client\\session.py\u001b[0m in \u001b[0;36m_do_call\u001b[1;34m(self, fn, *args)\u001b[0m\n\u001b[0;32m   1376\u001b[0m   \u001b[1;32mdef\u001b[0m \u001b[0m_do_call\u001b[0m\u001b[1;33m(\u001b[0m\u001b[0mself\u001b[0m\u001b[1;33m,\u001b[0m \u001b[0mfn\u001b[0m\u001b[1;33m,\u001b[0m \u001b[1;33m*\u001b[0m\u001b[0margs\u001b[0m\u001b[1;33m)\u001b[0m\u001b[1;33m:\u001b[0m\u001b[1;33m\u001b[0m\u001b[1;33m\u001b[0m\u001b[0m\n\u001b[0;32m   1377\u001b[0m     \u001b[1;32mtry\u001b[0m\u001b[1;33m:\u001b[0m\u001b[1;33m\u001b[0m\u001b[1;33m\u001b[0m\u001b[0m\n\u001b[1;32m-> 1378\u001b[1;33m       \u001b[1;32mreturn\u001b[0m \u001b[0mfn\u001b[0m\u001b[1;33m(\u001b[0m\u001b[1;33m*\u001b[0m\u001b[0margs\u001b[0m\u001b[1;33m)\u001b[0m\u001b[1;33m\u001b[0m\u001b[1;33m\u001b[0m\u001b[0m\n\u001b[0m\u001b[0;32m   1379\u001b[0m     \u001b[1;32mexcept\u001b[0m \u001b[0merrors\u001b[0m\u001b[1;33m.\u001b[0m\u001b[0mOpError\u001b[0m \u001b[1;32mas\u001b[0m \u001b[0me\u001b[0m\u001b[1;33m:\u001b[0m\u001b[1;33m\u001b[0m\u001b[1;33m\u001b[0m\u001b[0m\n\u001b[0;32m   1380\u001b[0m       \u001b[0mmessage\u001b[0m \u001b[1;33m=\u001b[0m \u001b[0mcompat\u001b[0m\u001b[1;33m.\u001b[0m\u001b[0mas_text\u001b[0m\u001b[1;33m(\u001b[0m\u001b[0me\u001b[0m\u001b[1;33m.\u001b[0m\u001b[0mmessage\u001b[0m\u001b[1;33m)\u001b[0m\u001b[1;33m\u001b[0m\u001b[1;33m\u001b[0m\u001b[0m\n",
            "\u001b[1;32mD:\\Backup\\Dropbox\\Jupyter\\venv\\lib\\site-packages\\tensorflow\\python\\client\\session.py\u001b[0m in \u001b[0;36m_run_fn\u001b[1;34m(feed_dict, fetch_list, target_list, options, run_metadata)\u001b[0m\n\u001b[0;32m   1360\u001b[0m       \u001b[0mself\u001b[0m\u001b[1;33m.\u001b[0m\u001b[0m_extend_graph\u001b[0m\u001b[1;33m(\u001b[0m\u001b[1;33m)\u001b[0m\u001b[1;33m\u001b[0m\u001b[1;33m\u001b[0m\u001b[0m\n\u001b[0;32m   1361\u001b[0m       return self._call_tf_sessionrun(options, feed_dict, fetch_list,\n\u001b[1;32m-> 1362\u001b[1;33m                                       target_list, run_metadata)\n\u001b[0m\u001b[0;32m   1363\u001b[0m \u001b[1;33m\u001b[0m\u001b[0m\n\u001b[0;32m   1364\u001b[0m     \u001b[1;32mdef\u001b[0m \u001b[0m_prun_fn\u001b[0m\u001b[1;33m(\u001b[0m\u001b[0mhandle\u001b[0m\u001b[1;33m,\u001b[0m \u001b[0mfeed_dict\u001b[0m\u001b[1;33m,\u001b[0m \u001b[0mfetch_list\u001b[0m\u001b[1;33m)\u001b[0m\u001b[1;33m:\u001b[0m\u001b[1;33m\u001b[0m\u001b[1;33m\u001b[0m\u001b[0m\n",
            "\u001b[1;32mD:\\Backup\\Dropbox\\Jupyter\\venv\\lib\\site-packages\\tensorflow\\python\\client\\session.py\u001b[0m in \u001b[0;36m_call_tf_sessionrun\u001b[1;34m(self, options, feed_dict, fetch_list, target_list, run_metadata)\u001b[0m\n\u001b[0;32m   1454\u001b[0m     return tf_session.TF_SessionRun_wrapper(self._session, options, feed_dict,\n\u001b[0;32m   1455\u001b[0m                                             \u001b[0mfetch_list\u001b[0m\u001b[1;33m,\u001b[0m \u001b[0mtarget_list\u001b[0m\u001b[1;33m,\u001b[0m\u001b[1;33m\u001b[0m\u001b[1;33m\u001b[0m\u001b[0m\n\u001b[1;32m-> 1456\u001b[1;33m                                             run_metadata)\n\u001b[0m\u001b[0;32m   1457\u001b[0m \u001b[1;33m\u001b[0m\u001b[0m\n\u001b[0;32m   1458\u001b[0m   \u001b[1;32mdef\u001b[0m \u001b[0m_call_tf_sessionprun\u001b[0m\u001b[1;33m(\u001b[0m\u001b[0mself\u001b[0m\u001b[1;33m,\u001b[0m \u001b[0mhandle\u001b[0m\u001b[1;33m,\u001b[0m \u001b[0mfeed_dict\u001b[0m\u001b[1;33m,\u001b[0m \u001b[0mfetch_list\u001b[0m\u001b[1;33m)\u001b[0m\u001b[1;33m:\u001b[0m\u001b[1;33m\u001b[0m\u001b[1;33m\u001b[0m\u001b[0m\n",
            "\u001b[1;31mKeyboardInterrupt\u001b[0m: "
          ]
        }
      ],
      "source": [
        "import numpy as np\n",
        "import tensorflow.compat.v1 as tf\n",
        "tf.disable_v2_behavior()\n",
        "\n",
        "\n",
        "session = tf.InteractiveSession(graph=graph)\n",
        "tf.global_variables_initializer().run()\n",
        "\n",
        "for e in range(nb_epochs):\n",
        "    total_loss = 0.0\n",
        "    \n",
        "    for i in range(0, nb_samples - batch_size, batch_size):\n",
        "        X = np.zeros((batch_size, width, height, 1), dtype=np.float32)\n",
        "        X[:, :, :, 0] = X_train[i:i + batch_size, :, :]\n",
        "        Xn = np.clip(X + np.random.normal(0.0, 0.2, size=(batch_size, width, height, 1)), 0.0, 1.0)\n",
        "        \n",
        "        _, n_loss = session.run([training_step, loss], \n",
        "                                feed_dict={\n",
        "                                    input_images: X,\n",
        "                                    input_noisy_images: Xn\n",
        "                                })\n",
        "        total_loss += n_loss\n",
        "        \n",
        "    print('Epoch {}) Total loss: {}'.format(e + 1, total_loss))"
      ]
    },
    {
      "cell_type": "code",
      "execution_count": null,
      "id": "475da81e",
      "metadata": {
        "id": "475da81e",
        "outputId": "19853b8a-b46e-4661-e9fe-5937aee8d92f"
      },
      "outputs": [
        {
          "name": "stdout",
          "output_type": "stream",
          "text": [
            "0.6577547\n"
          ]
        }
      ],
      "source": [
        "import numpy as np\n",
        "\n",
        "\n",
        "#Generate Noisy dataset\n",
        "X = np.zeros((len(X_train), width, height, 1), dtype=np.float32)\n",
        "X[:, :, :, 0] = X_train\n",
        "Xn = np.clip(X + np.random.normal(0.0, 0.2, size=(len(X), width, height, 1)), 0.0, 1.0)\n",
        "        \n",
        "\n",
        "codes = session.run([code_layer], \n",
        "                    feed_dict={\n",
        "                        input_noisy_images: Xn\n",
        "                    })[0]\n",
        "\n",
        "print(np.mean(codes))"
      ]
    },
    {
      "cell_type": "code",
      "execution_count": null,
      "id": "8d5bdb7b",
      "metadata": {
        "id": "8d5bdb7b"
      },
      "outputs": [],
      "source": [
        "import numpy as np\n",
        "\n",
        "Xs = np.reshape(Xn[0:10], (10, width, height, 1))\n",
        "\n",
        "Ys = session.run([convt_3], \n",
        "                 feed_dict={\n",
        "                     input_noisy_images: Xs\n",
        "                })\n",
        "\n",
        "Ys = np.squeeze(Ys[0] * 255.0)"
      ]
    },
    {
      "cell_type": "code",
      "execution_count": null,
      "id": "3a5274fe",
      "metadata": {
        "id": "3a5274fe",
        "outputId": "3b47b50d-175f-4004-c6ee-0350d6fafe7d"
      },
      "outputs": [
        {
          "data": {
            "image/png": "[encoded data removed]",
            "text/plain": [
              "<PIL.Image.Image image mode=RGB size=28x28>"
            ]
          },
          "metadata": {},
          "output_type": "display_data"
        },
        {
          "data": {
            "image/png": "[encoded data removed]",
            "text/plain": [
              "<PIL.Image.Image image mode=RGB size=28x28>"
            ]
          },
          "metadata": {},
          "output_type": "display_data"
        },
        {
          "data": {
            "image/png": "[encoded data removed]",
            "text/plain": [
              "<PIL.Image.Image image mode=RGB size=28x28>"
            ]
          },
          "metadata": {},
          "output_type": "display_data"
        },
        {
          "data": {
            "image/png": "[encoded data removed]",
            "text/plain": [
              "<PIL.Image.Image image mode=RGB size=28x28>"
            ]
          },
          "metadata": {},
          "output_type": "display_data"
        },
        {
          "data": {
            "image/png": "[encoded data removed]",
            "text/plain": [
              "<PIL.Image.Image image mode=RGB size=28x28>"
            ]
          },
          "metadata": {},
          "output_type": "display_data"
        },
        {
          "data": {
            "image/png": "[encoded data removed]",
            "text/plain": [
              "<PIL.Image.Image image mode=RGB size=28x28>"
            ]
          },
          "metadata": {},
          "output_type": "display_data"
        },
        {
          "data": {
            "image/png": "[encoded data removed]",
            "text/plain": [
              "<PIL.Image.Image image mode=RGB size=28x28>"
            ]
          },
          "metadata": {},
          "output_type": "display_data"
        },
        {
          "data": {
            "image/png": "[encoded data removed]",
            "text/plain": [
              "<PIL.Image.Image image mode=RGB size=28x28>"
            ]
          },
          "metadata": {},
          "output_type": "display_data"
        },
        {
          "data": {
            "image/png": "[encoded data removed]",
            "text/plain": [
              "<PIL.Image.Image image mode=RGB size=28x28>"
            ]
          },
          "metadata": {},
          "output_type": "display_data"
        },
        {
          "data": {
            "image/png": "[encoded data removed]",
            "text/plain": [
              "<PIL.Image.Image image mode=RGB size=28x28>"
            ]
          },
          "metadata": {},
          "output_type": "display_data"
        },
        {
          "data": {
            "image/png": "[encoded data removed]",
            "text/plain": [
              "<PIL.Image.Image image mode=RGB size=28x28>"
            ]
          },
          "metadata": {},
          "output_type": "display_data"
        },
        {
          "data": {
            "image/png": "[encoded data removed]",
            "text/plain": [
              "<PIL.Image.Image image mode=RGB size=28x28>"
            ]
          },
          "metadata": {},
          "output_type": "display_data"
        },
        {
          "data": {
            "image/png": "[encoded data removed]",
            "text/plain": [
              "<PIL.Image.Image image mode=RGB size=28x28>"
            ]
          },
          "metadata": {},
          "output_type": "display_data"
        },
        {
          "data": {
            "image/png": "[encoded data removed]",
            "text/plain": [
              "<PIL.Image.Image image mode=RGB size=28x28>"
            ]
          },
          "metadata": {},
          "output_type": "display_data"
        },
        {
          "data": {
            "image/png": "[encoded data removed]",
            "text/plain": [
              "<PIL.Image.Image image mode=RGB size=28x28>"
            ]
          },
          "metadata": {},
          "output_type": "display_data"
        },
        {
          "data": {
            "image/png": "[encoded data removed]",
            "text/plain": [
              "<PIL.Image.Image image mode=RGB size=28x28>"
            ]
          },
          "metadata": {},
          "output_type": "display_data"
        },
        {
          "data": {
            "image/png": "[encoded data removed]",
            "text/plain": [
              "<PIL.Image.Image image mode=RGB size=28x28>"
            ]
          },
          "metadata": {},
          "output_type": "display_data"
        },
        {
          "data": {
            "image/png": "[encoded data removed]",
            "text/plain": [
              "<PIL.Image.Image image mode=RGB size=28x28>"
            ]
          },
          "metadata": {},
          "output_type": "display_data"
        },
        {
          "data": {
            "image/png": "[encoded data removed]",
            "text/plain": [
              "<PIL.Image.Image image mode=RGB size=28x28>"
            ]
          },
          "metadata": {},
          "output_type": "display_data"
        },
        {
          "data": {
            "image/png": "[encoded data removed]",
            "text/plain": [
              "<PIL.Image.Image image mode=RGB size=28x28>"
            ]
          },
          "metadata": {},
          "output_type": "display_data"
        }
      ],
      "source": [
        "for i in range(0,10):\n",
        "    im = Image.fromarray(X_train[i] * 255.0)\n",
        "    if im.mode != 'RGB':\n",
        "        im = im.convert('RGB')\n",
        "    IPython.display.display(im)\n",
        "    \n",
        "    im = Image.fromarray(Ys[i])\n",
        "    if im.mode != 'RGB':\n",
        "        im = im.convert('RGB')\n",
        "    IPython.display.display(im)"
      ]
    },
    {
      "cell_type": "markdown",
      "id": "62827e17",
      "metadata": {
        "id": "62827e17"
      },
      "source": [
        "### Sparse autoencoder"
      ]
    },
    {
      "cell_type": "code",
      "execution_count": null,
      "id": "94262c3c",
      "metadata": {
        "id": "94262c3c"
      },
      "outputs": [],
      "source": [
        "import numpy as np\n",
        "\n",
        "from keras.datasets import fashion_mnist\n",
        "\n",
        "(X_train, _), (_, _) = fashion_mnist.load_data()\n",
        "\n",
        "nb_samples = 1000\n",
        "nb_epochs = 400\n",
        "batch_size = 200\n",
        "code_length = 256\n",
        "\n",
        "X_train = X_train.astype(np.float32)[0:nb_samples] / 255.0\n",
        "\n",
        "width = X_train.shape[1]\n",
        "height = X_train.shape[2]"
      ]
    },
    {
      "cell_type": "code",
      "execution_count": null,
      "id": "f10cf881",
      "metadata": {
        "id": "f10cf881"
      },
      "outputs": [],
      "source": [
        "from keras.layers import Dense, Flatten, Conv2D,Conv2DTranspose\n",
        "import tensorflow.compat.v1 as tf\n",
        "tf.disable_v2_behavior()\n",
        "\n",
        "graph = tf.Graph()\n",
        "\n",
        "with graph.as_default():\n",
        "    input_images = tf.placeholder(tf.float32, shape=(None, width, height, 1))\n",
        "    \n",
        "    r_input_images = tf.image.resize_images(input_images, (32, 32))\n",
        "    \n",
        "    # Encoder\n",
        "    conv_0 = Conv2D(filters=32,\n",
        "                      kernel_size=(3, 3),\n",
        "                      strides=(2, 2),\n",
        "                      activation=tf.nn.relu,\n",
        "                      padding='same')(r_input_images)\n",
        "    \n",
        "    conv_1 = Conv2D(filters=64,\n",
        "                      kernel_size=(3, 3),\n",
        "                      activation=tf.nn.relu,\n",
        "                      padding='same')(conv_0)\n",
        "    \n",
        "    conv_2 = Conv2D(filters=128,\n",
        "                      kernel_size=(3, 3),\n",
        "                      activation=tf.nn.relu,\n",
        "                      padding='same')(conv_1)\n",
        "    \n",
        "    # Code layer\n",
        "    code_input = Flatten()(conv_2)\n",
        "    \n",
        "    code_layer = Dense(units=code_length,\n",
        "                         activation=tf.nn.sigmoid)(code_input)\n",
        "    \n",
        "    # Decoder\n",
        "    decoder_input = tf.reshape(code_layer, (-1, 16, 16, 1))\n",
        "    \n",
        "    convt_0 = Conv2DTranspose(filters=128,\n",
        "                                 kernel_size=(3, 3),\n",
        "                                 strides=(2, 2),\n",
        "                                 activation=tf.nn.relu,\n",
        "                                 padding='same')(decoder_input)\n",
        "    \n",
        "    convt_1 = Conv2DTranspose(filters=64,\n",
        "                                 kernel_size=(3, 3),\n",
        "                                 activation=tf.nn.relu,\n",
        "                                 padding='same')(convt_0)\n",
        "    \n",
        "    convt_2 = Conv2DTranspose(filters=32,\n",
        "                                 kernel_size=(3, 3),\n",
        "                                 activation=tf.nn.relu,\n",
        "                                 padding='same')(convt_1)\n",
        "    \n",
        "    convt_3 = Conv2DTranspose(filters=1,\n",
        "                                 kernel_size=(3, 3),\n",
        "                                 activation=tf.sigmoid,\n",
        "                                 padding='same')(convt_2)\n",
        "    \n",
        "    # Loss\n",
        "    sparsity_constraint = tf.reduce_sum(0.001 * tf.norm(code_layer, ord=1, axis=1))\n",
        "    loss = tf.nn.l2_loss(convt_3 - r_input_images) + sparsity_constraint\n",
        "\n",
        "    \n",
        "    # Training step\n",
        "    training_step = tf.train.AdamOptimizer(0.001).minimize(loss)"
      ]
    },
    {
      "cell_type": "code",
      "execution_count": null,
      "id": "56983afb",
      "metadata": {
        "scrolled": true,
        "id": "56983afb",
        "outputId": "eac6590a-d650-40dd-820b-1037dc67b21e"
      },
      "outputs": [
        {
          "name": "stdout",
          "output_type": "stream",
          "text": [
            "Epoch 1) Total loss: 60323.5048828125\n",
            "Epoch 2) Total loss: 39640.9921875\n",
            "Epoch 3) Total loss: 36335.1806640625\n"
          ]
        },
        {
          "ename": "KeyboardInterrupt",
          "evalue": "",
          "output_type": "error",
          "traceback": [
            "\u001b[1;31m---------------------------------------------------------------------------\u001b[0m",
            "\u001b[1;31mKeyboardInterrupt\u001b[0m                         Traceback (most recent call last)",
            "\u001b[1;32m~\\AppData\\Local\\Temp\\ipykernel_20348\\137464787.py\u001b[0m in \u001b[0;36m<module>\u001b[1;34m\u001b[0m\n\u001b[0;32m     17\u001b[0m         _, n_loss = session.run([training_step, loss], \n\u001b[0;32m     18\u001b[0m                                 feed_dict={\n\u001b[1;32m---> 19\u001b[1;33m                                     \u001b[0minput_images\u001b[0m\u001b[1;33m:\u001b[0m \u001b[0mX\u001b[0m\u001b[1;33m\u001b[0m\u001b[1;33m\u001b[0m\u001b[0m\n\u001b[0m\u001b[0;32m     20\u001b[0m                                 })\n\u001b[0;32m     21\u001b[0m         \u001b[0mtotal_loss\u001b[0m \u001b[1;33m+=\u001b[0m \u001b[0mn_loss\u001b[0m\u001b[1;33m\u001b[0m\u001b[1;33m\u001b[0m\u001b[0m\n",
            "\u001b[1;32mD:\\Backup\\Dropbox\\Jupyter\\venv\\lib\\site-packages\\tensorflow\\python\\client\\session.py\u001b[0m in \u001b[0;36mrun\u001b[1;34m(self, fetches, feed_dict, options, run_metadata)\u001b[0m\n\u001b[0;32m    967\u001b[0m     \u001b[1;32mtry\u001b[0m\u001b[1;33m:\u001b[0m\u001b[1;33m\u001b[0m\u001b[1;33m\u001b[0m\u001b[0m\n\u001b[0;32m    968\u001b[0m       result = self._run(None, fetches, feed_dict, options_ptr,\n\u001b[1;32m--> 969\u001b[1;33m                          run_metadata_ptr)\n\u001b[0m\u001b[0;32m    970\u001b[0m       \u001b[1;32mif\u001b[0m \u001b[0mrun_metadata\u001b[0m\u001b[1;33m:\u001b[0m\u001b[1;33m\u001b[0m\u001b[1;33m\u001b[0m\u001b[0m\n\u001b[0;32m    971\u001b[0m         \u001b[0mproto_data\u001b[0m \u001b[1;33m=\u001b[0m \u001b[0mtf_session\u001b[0m\u001b[1;33m.\u001b[0m\u001b[0mTF_GetBuffer\u001b[0m\u001b[1;33m(\u001b[0m\u001b[0mrun_metadata_ptr\u001b[0m\u001b[1;33m)\u001b[0m\u001b[1;33m\u001b[0m\u001b[1;33m\u001b[0m\u001b[0m\n",
            "\u001b[1;32mD:\\Backup\\Dropbox\\Jupyter\\venv\\lib\\site-packages\\tensorflow\\python\\client\\session.py\u001b[0m in \u001b[0;36m_run\u001b[1;34m(self, handle, fetches, feed_dict, options, run_metadata)\u001b[0m\n\u001b[0;32m   1190\u001b[0m     \u001b[1;32mif\u001b[0m \u001b[0mfinal_fetches\u001b[0m \u001b[1;32mor\u001b[0m \u001b[0mfinal_targets\u001b[0m \u001b[1;32mor\u001b[0m \u001b[1;33m(\u001b[0m\u001b[0mhandle\u001b[0m \u001b[1;32mand\u001b[0m \u001b[0mfeed_dict_tensor\u001b[0m\u001b[1;33m)\u001b[0m\u001b[1;33m:\u001b[0m\u001b[1;33m\u001b[0m\u001b[1;33m\u001b[0m\u001b[0m\n\u001b[0;32m   1191\u001b[0m       results = self._do_run(handle, final_targets, final_fetches,\n\u001b[1;32m-> 1192\u001b[1;33m                              feed_dict_tensor, options, run_metadata)\n\u001b[0m\u001b[0;32m   1193\u001b[0m     \u001b[1;32melse\u001b[0m\u001b[1;33m:\u001b[0m\u001b[1;33m\u001b[0m\u001b[1;33m\u001b[0m\u001b[0m\n\u001b[0;32m   1194\u001b[0m       \u001b[0mresults\u001b[0m \u001b[1;33m=\u001b[0m \u001b[1;33m[\u001b[0m\u001b[1;33m]\u001b[0m\u001b[1;33m\u001b[0m\u001b[1;33m\u001b[0m\u001b[0m\n",
            "\u001b[1;32mD:\\Backup\\Dropbox\\Jupyter\\venv\\lib\\site-packages\\tensorflow\\python\\client\\session.py\u001b[0m in \u001b[0;36m_do_run\u001b[1;34m(self, handle, target_list, fetch_list, feed_dict, options, run_metadata)\u001b[0m\n\u001b[0;32m   1370\u001b[0m     \u001b[1;32mif\u001b[0m \u001b[0mhandle\u001b[0m \u001b[1;32mis\u001b[0m \u001b[1;32mNone\u001b[0m\u001b[1;33m:\u001b[0m\u001b[1;33m\u001b[0m\u001b[1;33m\u001b[0m\u001b[0m\n\u001b[0;32m   1371\u001b[0m       return self._do_call(_run_fn, feeds, fetches, targets, options,\n\u001b[1;32m-> 1372\u001b[1;33m                            run_metadata)\n\u001b[0m\u001b[0;32m   1373\u001b[0m     \u001b[1;32melse\u001b[0m\u001b[1;33m:\u001b[0m\u001b[1;33m\u001b[0m\u001b[1;33m\u001b[0m\u001b[0m\n\u001b[0;32m   1374\u001b[0m       \u001b[1;32mreturn\u001b[0m \u001b[0mself\u001b[0m\u001b[1;33m.\u001b[0m\u001b[0m_do_call\u001b[0m\u001b[1;33m(\u001b[0m\u001b[0m_prun_fn\u001b[0m\u001b[1;33m,\u001b[0m \u001b[0mhandle\u001b[0m\u001b[1;33m,\u001b[0m \u001b[0mfeeds\u001b[0m\u001b[1;33m,\u001b[0m \u001b[0mfetches\u001b[0m\u001b[1;33m)\u001b[0m\u001b[1;33m\u001b[0m\u001b[1;33m\u001b[0m\u001b[0m\n",
            "\u001b[1;32mD:\\Backup\\Dropbox\\Jupyter\\venv\\lib\\site-packages\\tensorflow\\python\\client\\session.py\u001b[0m in \u001b[0;36m_do_call\u001b[1;34m(self, fn, *args)\u001b[0m\n\u001b[0;32m   1376\u001b[0m   \u001b[1;32mdef\u001b[0m \u001b[0m_do_call\u001b[0m\u001b[1;33m(\u001b[0m\u001b[0mself\u001b[0m\u001b[1;33m,\u001b[0m \u001b[0mfn\u001b[0m\u001b[1;33m,\u001b[0m \u001b[1;33m*\u001b[0m\u001b[0margs\u001b[0m\u001b[1;33m)\u001b[0m\u001b[1;33m:\u001b[0m\u001b[1;33m\u001b[0m\u001b[1;33m\u001b[0m\u001b[0m\n\u001b[0;32m   1377\u001b[0m     \u001b[1;32mtry\u001b[0m\u001b[1;33m:\u001b[0m\u001b[1;33m\u001b[0m\u001b[1;33m\u001b[0m\u001b[0m\n\u001b[1;32m-> 1378\u001b[1;33m       \u001b[1;32mreturn\u001b[0m \u001b[0mfn\u001b[0m\u001b[1;33m(\u001b[0m\u001b[1;33m*\u001b[0m\u001b[0margs\u001b[0m\u001b[1;33m)\u001b[0m\u001b[1;33m\u001b[0m\u001b[1;33m\u001b[0m\u001b[0m\n\u001b[0m\u001b[0;32m   1379\u001b[0m     \u001b[1;32mexcept\u001b[0m \u001b[0merrors\u001b[0m\u001b[1;33m.\u001b[0m\u001b[0mOpError\u001b[0m \u001b[1;32mas\u001b[0m \u001b[0me\u001b[0m\u001b[1;33m:\u001b[0m\u001b[1;33m\u001b[0m\u001b[1;33m\u001b[0m\u001b[0m\n\u001b[0;32m   1380\u001b[0m       \u001b[0mmessage\u001b[0m \u001b[1;33m=\u001b[0m \u001b[0mcompat\u001b[0m\u001b[1;33m.\u001b[0m\u001b[0mas_text\u001b[0m\u001b[1;33m(\u001b[0m\u001b[0me\u001b[0m\u001b[1;33m.\u001b[0m\u001b[0mmessage\u001b[0m\u001b[1;33m)\u001b[0m\u001b[1;33m\u001b[0m\u001b[1;33m\u001b[0m\u001b[0m\n",
            "\u001b[1;32mD:\\Backup\\Dropbox\\Jupyter\\venv\\lib\\site-packages\\tensorflow\\python\\client\\session.py\u001b[0m in \u001b[0;36m_run_fn\u001b[1;34m(feed_dict, fetch_list, target_list, options, run_metadata)\u001b[0m\n\u001b[0;32m   1360\u001b[0m       \u001b[0mself\u001b[0m\u001b[1;33m.\u001b[0m\u001b[0m_extend_graph\u001b[0m\u001b[1;33m(\u001b[0m\u001b[1;33m)\u001b[0m\u001b[1;33m\u001b[0m\u001b[1;33m\u001b[0m\u001b[0m\n\u001b[0;32m   1361\u001b[0m       return self._call_tf_sessionrun(options, feed_dict, fetch_list,\n\u001b[1;32m-> 1362\u001b[1;33m                                       target_list, run_metadata)\n\u001b[0m\u001b[0;32m   1363\u001b[0m \u001b[1;33m\u001b[0m\u001b[0m\n\u001b[0;32m   1364\u001b[0m     \u001b[1;32mdef\u001b[0m \u001b[0m_prun_fn\u001b[0m\u001b[1;33m(\u001b[0m\u001b[0mhandle\u001b[0m\u001b[1;33m,\u001b[0m \u001b[0mfeed_dict\u001b[0m\u001b[1;33m,\u001b[0m \u001b[0mfetch_list\u001b[0m\u001b[1;33m)\u001b[0m\u001b[1;33m:\u001b[0m\u001b[1;33m\u001b[0m\u001b[1;33m\u001b[0m\u001b[0m\n",
            "\u001b[1;32mD:\\Backup\\Dropbox\\Jupyter\\venv\\lib\\site-packages\\tensorflow\\python\\client\\session.py\u001b[0m in \u001b[0;36m_call_tf_sessionrun\u001b[1;34m(self, options, feed_dict, fetch_list, target_list, run_metadata)\u001b[0m\n\u001b[0;32m   1454\u001b[0m     return tf_session.TF_SessionRun_wrapper(self._session, options, feed_dict,\n\u001b[0;32m   1455\u001b[0m                                             \u001b[0mfetch_list\u001b[0m\u001b[1;33m,\u001b[0m \u001b[0mtarget_list\u001b[0m\u001b[1;33m,\u001b[0m\u001b[1;33m\u001b[0m\u001b[1;33m\u001b[0m\u001b[0m\n\u001b[1;32m-> 1456\u001b[1;33m                                             run_metadata)\n\u001b[0m\u001b[0;32m   1457\u001b[0m \u001b[1;33m\u001b[0m\u001b[0m\n\u001b[0;32m   1458\u001b[0m   \u001b[1;32mdef\u001b[0m \u001b[0m_call_tf_sessionprun\u001b[0m\u001b[1;33m(\u001b[0m\u001b[0mself\u001b[0m\u001b[1;33m,\u001b[0m \u001b[0mhandle\u001b[0m\u001b[1;33m,\u001b[0m \u001b[0mfeed_dict\u001b[0m\u001b[1;33m,\u001b[0m \u001b[0mfetch_list\u001b[0m\u001b[1;33m)\u001b[0m\u001b[1;33m:\u001b[0m\u001b[1;33m\u001b[0m\u001b[1;33m\u001b[0m\u001b[0m\n",
            "\u001b[1;31mKeyboardInterrupt\u001b[0m: "
          ]
        }
      ],
      "source": [
        "import numpy as np\n",
        "import tensorflow.compat.v1 as tf\n",
        "tf.disable_v2_behavior()\n",
        "\n",
        "session = tf.InteractiveSession(graph=graph)\n",
        "tf.global_variables_initializer().run()\n",
        "\n",
        "for e in range(nb_epochs):\n",
        "    np.random.shuffle(X_train)\n",
        "    \n",
        "    total_loss = 0.0\n",
        "    \n",
        "    for i in range(0, nb_samples - batch_size, batch_size):\n",
        "        X = np.zeros((batch_size, width, height, 1), dtype=np.float32)\n",
        "        X[:, :, :, 0] = X_train[i:i + batch_size, :, :]\n",
        "        \n",
        "        _, n_loss = session.run([training_step, loss], \n",
        "                                feed_dict={\n",
        "                                    input_images: X\n",
        "                                })\n",
        "        total_loss += n_loss\n",
        "        \n",
        "    print('Epoch {}) Total loss: {}'.format(e + 1, total_loss))"
      ]
    },
    {
      "cell_type": "code",
      "execution_count": null,
      "id": "500f2968",
      "metadata": {
        "id": "500f2968",
        "outputId": "5143c8db-50f0-4f24-b4b8-5e7451974955"
      },
      "outputs": [
        {
          "name": "stdout",
          "output_type": "stream",
          "text": [
            "0.61094445\n"
          ]
        }
      ],
      "source": [
        "import numpy as np\n",
        "\n",
        "codes = session.run([code_layer], \n",
        "                    feed_dict={\n",
        "                        input_images: np.expand_dims(X_train, axis=3),\n",
        "                    })[0]\n",
        "\n",
        "print(np.mean(codes))"
      ]
    },
    {
      "cell_type": "code",
      "execution_count": null,
      "id": "baabd1e9",
      "metadata": {
        "id": "baabd1e9"
      },
      "outputs": [],
      "source": [
        "import numpy as np\n",
        "\n",
        "Xs = np.reshape(X_train[0:10], (10, width, height, 1))\n",
        "\n",
        "Ys = session.run([convt_3], \n",
        "                 feed_dict={\n",
        "                     input_images: Xs\n",
        "                })\n",
        "\n",
        "Ys = np.squeeze(Ys[0] * 255.0)"
      ]
    },
    {
      "cell_type": "code",
      "execution_count": null,
      "id": "f5dbc8bf",
      "metadata": {
        "id": "f5dbc8bf",
        "outputId": "a8106afa-f866-4488-8a91-bca4f8340c82"
      },
      "outputs": [
        {
          "data": {
            "image/png": "[encoded data removed]",
            "text/plain": [
              "<PIL.Image.Image image mode=RGB size=28x28>"
            ]
          },
          "metadata": {},
          "output_type": "display_data"
        },
        {
          "data": {
            "image/png": "[encoded data removed]",
            "text/plain": [
              "<PIL.Image.Image image mode=RGB size=32x32>"
            ]
          },
          "metadata": {},
          "output_type": "display_data"
        },
        {
          "data": {
            "image/png": "[encoded data removed]",
            "text/plain": [
              "<PIL.Image.Image image mode=RGB size=28x28>"
            ]
          },
          "metadata": {},
          "output_type": "display_data"
        },
        {
          "data": {
            "image/png": "[encoded data removed]",
            "text/plain": [
              "<PIL.Image.Image image mode=RGB size=32x32>"
            ]
          },
          "metadata": {},
          "output_type": "display_data"
        },
        {
          "data": {
            "image/png": "[encoded data removed]",
            "text/plain": [
              "<PIL.Image.Image image mode=RGB size=28x28>"
            ]
          },
          "metadata": {},
          "output_type": "display_data"
        },
        {
          "data": {
            "image/png": "[encoded data removed]",
            "text/plain": [
              "<PIL.Image.Image image mode=RGB size=32x32>"
            ]
          },
          "metadata": {},
          "output_type": "display_data"
        },
        {
          "data": {
            "image/png": "[encoded data removed]",
            "text/plain": [
              "<PIL.Image.Image image mode=RGB size=28x28>"
            ]
          },
          "metadata": {},
          "output_type": "display_data"
        },
        {
          "data": {
            "image/png": "[encoded data removed]",
            "text/plain": [
              "<PIL.Image.Image image mode=RGB size=32x32>"
            ]
          },
          "metadata": {},
          "output_type": "display_data"
        },
        {
          "data": {
            "image/png": "[encoded data removed]",
            "text/plain": [
              "<PIL.Image.Image image mode=RGB size=28x28>"
            ]
          },
          "metadata": {},
          "output_type": "display_data"
        },
        {
          "data": {
            "image/png": "[encoded data removed]",
            "text/plain": [
              "<PIL.Image.Image image mode=RGB size=32x32>"
            ]
          },
          "metadata": {},
          "output_type": "display_data"
        },
        {
          "data": {
            "image/png": "[encoded data removed]",
            "text/plain": [
              "<PIL.Image.Image image mode=RGB size=28x28>"
            ]
          },
          "metadata": {},
          "output_type": "display_data"
        },
        {
          "data": {
            "image/png": "[encoded data removed]",
            "text/plain": [
              "<PIL.Image.Image image mode=RGB size=32x32>"
            ]
          },
          "metadata": {},
          "output_type": "display_data"
        },
        {
          "data": {
            "image/png": "[encoded data removed]",
            "text/plain": [
              "<PIL.Image.Image image mode=RGB size=28x28>"
            ]
          },
          "metadata": {},
          "output_type": "display_data"
        },
        {
          "data": {
            "image/png": "[encoded data removed]",
            "text/plain": [
              "<PIL.Image.Image image mode=RGB size=32x32>"
            ]
          },
          "metadata": {},
          "output_type": "display_data"
        },
        {
          "data": {
            "image/png": "[encoded data removed]",
            "text/plain": [
              "<PIL.Image.Image image mode=RGB size=28x28>"
            ]
          },
          "metadata": {},
          "output_type": "display_data"
        },
        {
          "data": {
            "image/png": "[encoded data removed]",
            "text/plain": [
              "<PIL.Image.Image image mode=RGB size=32x32>"
            ]
          },
          "metadata": {},
          "output_type": "display_data"
        },
        {
          "data": {
            "image/png": "[encoded data removed]",
            "text/plain": [
              "<PIL.Image.Image image mode=RGB size=28x28>"
            ]
          },
          "metadata": {},
          "output_type": "display_data"
        },
        {
          "data": {
            "image/png": "[encoded data removed]",
            "text/plain": [
              "<PIL.Image.Image image mode=RGB size=32x32>"
            ]
          },
          "metadata": {},
          "output_type": "display_data"
        },
        {
          "data": {
            "image/png": "[encoded data removed]",
            "text/plain": [
              "<PIL.Image.Image image mode=RGB size=28x28>"
            ]
          },
          "metadata": {},
          "output_type": "display_data"
        },
        {
          "data": {
            "image/png": "[encoded data removed]",
            "text/plain": [
              "<PIL.Image.Image image mode=RGB size=32x32>"
            ]
          },
          "metadata": {},
          "output_type": "display_data"
        }
      ],
      "source": [
        "for i in range(0,10):\n",
        "    im = Image.fromarray(X_train[i] * 255.0)\n",
        "    if im.mode != 'RGB':\n",
        "        im = im.convert('RGB')\n",
        "    IPython.display.display(im)\n",
        "    \n",
        "    im = Image.fromarray(Ys[i])\n",
        "    if im.mode != 'RGB':\n",
        "        im = im.convert('RGB')\n",
        "    IPython.display.display(im)"
      ]
    },
    {
      "cell_type": "markdown",
      "id": "c1fd3ce8",
      "metadata": {
        "id": "c1fd3ce8"
      },
      "source": [
        "### GAN"
      ]
    },
    {
      "cell_type": "code",
      "execution_count": null,
      "id": "31a09515",
      "metadata": {
        "id": "31a09515"
      },
      "outputs": [],
      "source": [
        "import numpy as np\n",
        "\n",
        "from keras.datasets import fashion_mnist\n",
        "\n",
        "nb_samples = 5000\n",
        "\n",
        "(X_train, _), (_, _) = fashion_mnist.load_data()\n",
        "X_train = X_train.astype(np.float32)[0:nb_samples] / 255.0\n",
        "X_train = (2.0 * X_train) - 1.0\n",
        "\n",
        "width = X_train.shape[1]\n",
        "height = X_train.shape[2] "
      ]
    },
    {
      "cell_type": "markdown",
      "id": "f93c9672",
      "metadata": {
        "id": "f93c9672"
      },
      "source": [
        "#### DCGAN"
      ]
    },
    {
      "cell_type": "code",
      "execution_count": null,
      "id": "af2dc61d",
      "metadata": {
        "id": "af2dc61d"
      },
      "outputs": [],
      "source": [
        "import tensorflow as tf\n",
        "from keras.layers import Dense, Flatten, Conv2D,Conv2DTranspose, BatchNormalization\n",
        "\n",
        "def generator(z, is_training=True):\n",
        "    with tf.variable_scope('generator'):\n",
        "        conv_0 = Conv2DTranspose(filters=1024,\n",
        "                                            kernel_size=(4, 4),\n",
        "                                            padding='valid')(z)\n",
        "\n",
        "        b_conv_0 = BatchNormalization()(conv_0,training=is_training)\n",
        "\n",
        "        conv_1 = Conv2DTranspose(filters=512,\n",
        "                                            kernel_size=(4, 4),\n",
        "                                            strides=(2, 2),\n",
        "                                            padding='same')(tf.nn.leaky_relu(b_conv_0))\n",
        "\n",
        "        b_conv_1 = BatchNormalization()(conv_1,training=is_training)\n",
        "        \n",
        "        conv_2 = Conv2DTranspose(filters=256,\n",
        "                                            kernel_size=(4, 4),\n",
        "                                            strides=(2, 2),\n",
        "                                            padding='same')(tf.nn.leaky_relu(b_conv_1))\n",
        "\n",
        "        b_conv_2 = BatchNormalization()(conv_2,training=is_training)\n",
        "        \n",
        "        conv_3 = Conv2DTranspose(filters=128,\n",
        "                                            kernel_size=(4, 4),\n",
        "                                            strides=(2, 2),\n",
        "                                            padding='same')(tf.nn.leaky_relu(b_conv_2))\n",
        "\n",
        "        b_conv_3 = BatchNormalization()(conv_3,training=is_training)\n",
        "\n",
        "        conv_4 = Conv2DTranspose(filters=1,\n",
        "                                            kernel_size=(4, 4),\n",
        "                                            strides=(2, 2),\n",
        "                                            padding='same')(tf.nn.leaky_relu(b_conv_3))\n",
        "\n",
        "        return tf.nn.tanh(conv_4)"
      ]
    },
    {
      "cell_type": "code",
      "execution_count": null,
      "id": "40fdd81b",
      "metadata": {
        "id": "40fdd81b"
      },
      "outputs": [],
      "source": [
        "import tensorflow as tf\n",
        "from keras.layers import Dense, Flatten, Conv2D,Conv2DTranspose, BatchNormalization\n",
        "\n",
        "def discriminator(x, is_training=True, reuse_variables=True):\n",
        "    with tf.variable_scope('discriminator', reuse=reuse_variables):\n",
        "        conv_0 = Conv2D(filters=128,\n",
        "                                  kernel_size=(4, 4),\n",
        "                                  strides=(2, 2),\n",
        "                                  padding='same')(x)\n",
        "\n",
        "        conv_1 = Conv2D(filters=256,\n",
        "                                  kernel_size=(4, 4),\n",
        "                                  strides=(2, 2),\n",
        "                                  padding='same')(tf.nn.leaky_relu(conv_0))\n",
        "        \n",
        "        b_conv_1 = BatchNormalization()(conv_1, training=is_training)\n",
        "        \n",
        "        conv_2 = Conv2D(filters=512,\n",
        "                                  kernel_size=(4, 4),\n",
        "                                  strides=(2, 2),\n",
        "                                  padding='same')(tf.nn.leaky_relu(b_conv_1))\n",
        "        \n",
        "        b_conv_2 = BatchNormalization()(conv_2, training=is_training)\n",
        "        \n",
        "        conv_3 = Conv2D(filters=1024,\n",
        "                                  kernel_size=(4, 4),\n",
        "                                  strides=(2, 2),\n",
        "                                  padding='same')(tf.nn.leaky_relu(b_conv_2))\n",
        "        \n",
        "        b_conv_3 = BatchNormalization()(conv_3, training=is_training)\n",
        "        \n",
        "        conv_4 = Conv2D(filters=1,\n",
        "                                  kernel_size=(4, 4),\n",
        "                                  padding='valid')(tf.nn.leaky_relu(b_conv_3))\n",
        "        \n",
        "        return conv_4"
      ]
    },
    {
      "cell_type": "code",
      "execution_count": null,
      "id": "32409267",
      "metadata": {
        "id": "32409267",
        "outputId": "a83a8879-046c-4412-8a31-00de554685aa"
      },
      "outputs": [
        {
          "name": "stdout",
          "output_type": "stream",
          "text": [
            "WARNING:tensorflow:From D:\\Backup\\Dropbox\\Jupyter\\venv\\lib\\site-packages\\tensorflow\\python\\compat\\v2_compat.py:107: disable_resource_variables (from tensorflow.python.ops.variable_scope) is deprecated and will be removed in a future version.\n",
            "Instructions for updating:\n",
            "non-resource variables are not supported in the long term\n",
            "WARNING:tensorflow:From D:\\Backup\\Dropbox\\Jupyter\\venv\\lib\\site-packages\\keras\\layers\\normalization\\batch_normalization.py:562: _colocate_with (from tensorflow.python.framework.ops) is deprecated and will be removed in a future version.\n",
            "Instructions for updating:\n",
            "Colocations handled automatically by placer.\n"
          ]
        }
      ],
      "source": [
        "import tensorflow.compat.v1 as tf\n",
        "tf.disable_v2_behavior()\n",
        "\n",
        "code_length = 100\n",
        "\n",
        "graph = tf.Graph()\n",
        "\n",
        "with graph.as_default():\n",
        "    input_x = tf.placeholder(tf.float32, shape=(None, width, height, 1))\n",
        "    input_z = tf.placeholder(tf.float32, shape=(None, code_length))\n",
        "    is_training = tf.placeholder(tf.bool)\n",
        "    \n",
        "    gen = generator(z=tf.reshape(input_z, (-1, 1, 1, code_length)), is_training=is_training)\n",
        "    \n",
        "    r_input_x = tf.image.resize_images(images=input_x, size=(64, 64))\n",
        "        \n",
        "    discr_1_l = discriminator(x=r_input_x, is_training=is_training, reuse_variables=False)\n",
        "    discr_2_l = discriminator(x=gen, is_training=is_training, reuse_variables=True)\n",
        "    \n",
        "    loss_d_1 = tf.reduce_mean(tf.nn.sigmoid_cross_entropy_with_logits(labels=tf.ones_like(discr_1_l), logits=discr_1_l))\n",
        "    loss_d_2 = tf.reduce_mean(tf.nn.sigmoid_cross_entropy_with_logits(labels=tf.zeros_like(discr_2_l), logits=discr_2_l))\n",
        "    loss_d = loss_d_1 + loss_d_2\n",
        "    \n",
        "    loss_g = tf.reduce_mean(tf.nn.sigmoid_cross_entropy_with_logits(labels=tf.ones_like(discr_2_l), logits=discr_2_l))\n",
        "    \n",
        "    variables_g = [variable for variable in tf.trainable_variables() if variable.name.startswith('generator')]\n",
        "    variables_d = [variable for variable in tf.trainable_variables() if variable.name.startswith('discriminator')]\n",
        "    \n",
        "    with tf.control_dependencies(tf.get_collection(tf.GraphKeys.UPDATE_OPS)):\n",
        "        training_step_d = tf.train.AdamOptimizer(0.0002, beta1=0.5).minimize(loss=loss_d, var_list=variables_d)\n",
        "        training_step_g = tf.train.AdamOptimizer(0.0002, beta1=0.5).minimize(loss=loss_g, var_list=variables_g) "
      ]
    },
    {
      "cell_type": "code",
      "execution_count": null,
      "id": "80f44efa",
      "metadata": {
        "id": "80f44efa",
        "outputId": "13542818-e8aa-4544-8db1-670c1a670c6f"
      },
      "outputs": [
        {
          "name": "stderr",
          "output_type": "stream",
          "text": [
            "D:\\Backup\\Dropbox\\Jupyter\\venv\\lib\\site-packages\\tensorflow\\python\\client\\session.py:1769: UserWarning: An interactive session is already active. This can cause out-of-memory errors in some cases. You must explicitly call `InteractiveSession.close()` to release resources held by the other session(s).\n",
            "  warnings.warn('An interactive session is already active. This can '\n"
          ]
        },
        {
          "name": "stdout",
          "output_type": "stream",
          "text": [
            "0 / 39\n",
            "1 / 39\n",
            "2 / 39\n",
            "3 / 39\n",
            "4 / 39\n",
            "5 / 39\n",
            "6 / 39\n",
            "7 / 39\n",
            "8 / 39\n",
            "9 / 39\n",
            "10 / 39\n",
            "11 / 39\n",
            "12 / 39\n",
            "13 / 39\n",
            "14 / 39\n",
            "15 / 39\n"
          ]
        },
        {
          "ename": "KeyboardInterrupt",
          "evalue": "",
          "output_type": "error",
          "traceback": [
            "\u001b[1;31m---------------------------------------------------------------------------\u001b[0m",
            "\u001b[1;31mKeyboardInterrupt\u001b[0m                         Traceback (most recent call last)",
            "\u001b[1;32m~\\AppData\\Local\\Temp\\ipykernel_19140\\3258819916.py\u001b[0m in \u001b[0;36m<module>\u001b[1;34m\u001b[0m\n\u001b[0;32m     26\u001b[0m                                     \u001b[0minput_x\u001b[0m\u001b[1;33m:\u001b[0m \u001b[0mX\u001b[0m\u001b[1;33m,\u001b[0m\u001b[1;33m\u001b[0m\u001b[1;33m\u001b[0m\u001b[0m\n\u001b[0;32m     27\u001b[0m                                     \u001b[0minput_z\u001b[0m\u001b[1;33m:\u001b[0m \u001b[0mZ\u001b[0m\u001b[1;33m,\u001b[0m\u001b[1;33m\u001b[0m\u001b[1;33m\u001b[0m\u001b[0m\n\u001b[1;32m---> 28\u001b[1;33m                                     \u001b[0mis_training\u001b[0m\u001b[1;33m:\u001b[0m \u001b[1;32mTrue\u001b[0m\u001b[1;33m\u001b[0m\u001b[1;33m\u001b[0m\u001b[0m\n\u001b[0m\u001b[0;32m     29\u001b[0m                                 })\n\u001b[0;32m     30\u001b[0m         \u001b[0md_losses\u001b[0m\u001b[1;33m.\u001b[0m\u001b[0mappend\u001b[0m\u001b[1;33m(\u001b[0m\u001b[0md_loss\u001b[0m\u001b[1;33m)\u001b[0m\u001b[1;33m\u001b[0m\u001b[1;33m\u001b[0m\u001b[0m\n",
            "\u001b[1;32mD:\\Backup\\Dropbox\\Jupyter\\venv\\lib\\site-packages\\tensorflow\\python\\client\\session.py\u001b[0m in \u001b[0;36mrun\u001b[1;34m(self, fetches, feed_dict, options, run_metadata)\u001b[0m\n\u001b[0;32m    967\u001b[0m     \u001b[1;32mtry\u001b[0m\u001b[1;33m:\u001b[0m\u001b[1;33m\u001b[0m\u001b[1;33m\u001b[0m\u001b[0m\n\u001b[0;32m    968\u001b[0m       result = self._run(None, fetches, feed_dict, options_ptr,\n\u001b[1;32m--> 969\u001b[1;33m                          run_metadata_ptr)\n\u001b[0m\u001b[0;32m    970\u001b[0m       \u001b[1;32mif\u001b[0m \u001b[0mrun_metadata\u001b[0m\u001b[1;33m:\u001b[0m\u001b[1;33m\u001b[0m\u001b[1;33m\u001b[0m\u001b[0m\n\u001b[0;32m    971\u001b[0m         \u001b[0mproto_data\u001b[0m \u001b[1;33m=\u001b[0m \u001b[0mtf_session\u001b[0m\u001b[1;33m.\u001b[0m\u001b[0mTF_GetBuffer\u001b[0m\u001b[1;33m(\u001b[0m\u001b[0mrun_metadata_ptr\u001b[0m\u001b[1;33m)\u001b[0m\u001b[1;33m\u001b[0m\u001b[1;33m\u001b[0m\u001b[0m\n",
            "\u001b[1;32mD:\\Backup\\Dropbox\\Jupyter\\venv\\lib\\site-packages\\tensorflow\\python\\client\\session.py\u001b[0m in \u001b[0;36m_run\u001b[1;34m(self, handle, fetches, feed_dict, options, run_metadata)\u001b[0m\n\u001b[0;32m   1190\u001b[0m     \u001b[1;32mif\u001b[0m \u001b[0mfinal_fetches\u001b[0m \u001b[1;32mor\u001b[0m \u001b[0mfinal_targets\u001b[0m \u001b[1;32mor\u001b[0m \u001b[1;33m(\u001b[0m\u001b[0mhandle\u001b[0m \u001b[1;32mand\u001b[0m \u001b[0mfeed_dict_tensor\u001b[0m\u001b[1;33m)\u001b[0m\u001b[1;33m:\u001b[0m\u001b[1;33m\u001b[0m\u001b[1;33m\u001b[0m\u001b[0m\n\u001b[0;32m   1191\u001b[0m       results = self._do_run(handle, final_targets, final_fetches,\n\u001b[1;32m-> 1192\u001b[1;33m                              feed_dict_tensor, options, run_metadata)\n\u001b[0m\u001b[0;32m   1193\u001b[0m     \u001b[1;32melse\u001b[0m\u001b[1;33m:\u001b[0m\u001b[1;33m\u001b[0m\u001b[1;33m\u001b[0m\u001b[0m\n\u001b[0;32m   1194\u001b[0m       \u001b[0mresults\u001b[0m \u001b[1;33m=\u001b[0m \u001b[1;33m[\u001b[0m\u001b[1;33m]\u001b[0m\u001b[1;33m\u001b[0m\u001b[1;33m\u001b[0m\u001b[0m\n",
            "\u001b[1;32mD:\\Backup\\Dropbox\\Jupyter\\venv\\lib\\site-packages\\tensorflow\\python\\client\\session.py\u001b[0m in \u001b[0;36m_do_run\u001b[1;34m(self, handle, target_list, fetch_list, feed_dict, options, run_metadata)\u001b[0m\n\u001b[0;32m   1370\u001b[0m     \u001b[1;32mif\u001b[0m \u001b[0mhandle\u001b[0m \u001b[1;32mis\u001b[0m \u001b[1;32mNone\u001b[0m\u001b[1;33m:\u001b[0m\u001b[1;33m\u001b[0m\u001b[1;33m\u001b[0m\u001b[0m\n\u001b[0;32m   1371\u001b[0m       return self._do_call(_run_fn, feeds, fetches, targets, options,\n\u001b[1;32m-> 1372\u001b[1;33m                            run_metadata)\n\u001b[0m\u001b[0;32m   1373\u001b[0m     \u001b[1;32melse\u001b[0m\u001b[1;33m:\u001b[0m\u001b[1;33m\u001b[0m\u001b[1;33m\u001b[0m\u001b[0m\n\u001b[0;32m   1374\u001b[0m       \u001b[1;32mreturn\u001b[0m \u001b[0mself\u001b[0m\u001b[1;33m.\u001b[0m\u001b[0m_do_call\u001b[0m\u001b[1;33m(\u001b[0m\u001b[0m_prun_fn\u001b[0m\u001b[1;33m,\u001b[0m \u001b[0mhandle\u001b[0m\u001b[1;33m,\u001b[0m \u001b[0mfeeds\u001b[0m\u001b[1;33m,\u001b[0m \u001b[0mfetches\u001b[0m\u001b[1;33m)\u001b[0m\u001b[1;33m\u001b[0m\u001b[1;33m\u001b[0m\u001b[0m\n",
            "\u001b[1;32mD:\\Backup\\Dropbox\\Jupyter\\venv\\lib\\site-packages\\tensorflow\\python\\client\\session.py\u001b[0m in \u001b[0;36m_do_call\u001b[1;34m(self, fn, *args)\u001b[0m\n\u001b[0;32m   1376\u001b[0m   \u001b[1;32mdef\u001b[0m \u001b[0m_do_call\u001b[0m\u001b[1;33m(\u001b[0m\u001b[0mself\u001b[0m\u001b[1;33m,\u001b[0m \u001b[0mfn\u001b[0m\u001b[1;33m,\u001b[0m \u001b[1;33m*\u001b[0m\u001b[0margs\u001b[0m\u001b[1;33m)\u001b[0m\u001b[1;33m:\u001b[0m\u001b[1;33m\u001b[0m\u001b[1;33m\u001b[0m\u001b[0m\n\u001b[0;32m   1377\u001b[0m     \u001b[1;32mtry\u001b[0m\u001b[1;33m:\u001b[0m\u001b[1;33m\u001b[0m\u001b[1;33m\u001b[0m\u001b[0m\n\u001b[1;32m-> 1378\u001b[1;33m       \u001b[1;32mreturn\u001b[0m \u001b[0mfn\u001b[0m\u001b[1;33m(\u001b[0m\u001b[1;33m*\u001b[0m\u001b[0margs\u001b[0m\u001b[1;33m)\u001b[0m\u001b[1;33m\u001b[0m\u001b[1;33m\u001b[0m\u001b[0m\n\u001b[0m\u001b[0;32m   1379\u001b[0m     \u001b[1;32mexcept\u001b[0m \u001b[0merrors\u001b[0m\u001b[1;33m.\u001b[0m\u001b[0mOpError\u001b[0m \u001b[1;32mas\u001b[0m \u001b[0me\u001b[0m\u001b[1;33m:\u001b[0m\u001b[1;33m\u001b[0m\u001b[1;33m\u001b[0m\u001b[0m\n\u001b[0;32m   1380\u001b[0m       \u001b[0mmessage\u001b[0m \u001b[1;33m=\u001b[0m \u001b[0mcompat\u001b[0m\u001b[1;33m.\u001b[0m\u001b[0mas_text\u001b[0m\u001b[1;33m(\u001b[0m\u001b[0me\u001b[0m\u001b[1;33m.\u001b[0m\u001b[0mmessage\u001b[0m\u001b[1;33m)\u001b[0m\u001b[1;33m\u001b[0m\u001b[1;33m\u001b[0m\u001b[0m\n",
            "\u001b[1;32mD:\\Backup\\Dropbox\\Jupyter\\venv\\lib\\site-packages\\tensorflow\\python\\client\\session.py\u001b[0m in \u001b[0;36m_run_fn\u001b[1;34m(feed_dict, fetch_list, target_list, options, run_metadata)\u001b[0m\n\u001b[0;32m   1360\u001b[0m       \u001b[0mself\u001b[0m\u001b[1;33m.\u001b[0m\u001b[0m_extend_graph\u001b[0m\u001b[1;33m(\u001b[0m\u001b[1;33m)\u001b[0m\u001b[1;33m\u001b[0m\u001b[1;33m\u001b[0m\u001b[0m\n\u001b[0;32m   1361\u001b[0m       return self._call_tf_sessionrun(options, feed_dict, fetch_list,\n\u001b[1;32m-> 1362\u001b[1;33m                                       target_list, run_metadata)\n\u001b[0m\u001b[0;32m   1363\u001b[0m \u001b[1;33m\u001b[0m\u001b[0m\n\u001b[0;32m   1364\u001b[0m     \u001b[1;32mdef\u001b[0m \u001b[0m_prun_fn\u001b[0m\u001b[1;33m(\u001b[0m\u001b[0mhandle\u001b[0m\u001b[1;33m,\u001b[0m \u001b[0mfeed_dict\u001b[0m\u001b[1;33m,\u001b[0m \u001b[0mfetch_list\u001b[0m\u001b[1;33m)\u001b[0m\u001b[1;33m:\u001b[0m\u001b[1;33m\u001b[0m\u001b[1;33m\u001b[0m\u001b[0m\n",
            "\u001b[1;32mD:\\Backup\\Dropbox\\Jupyter\\venv\\lib\\site-packages\\tensorflow\\python\\client\\session.py\u001b[0m in \u001b[0;36m_call_tf_sessionrun\u001b[1;34m(self, options, feed_dict, fetch_list, target_list, run_metadata)\u001b[0m\n\u001b[0;32m   1454\u001b[0m     return tf_session.TF_SessionRun_wrapper(self._session, options, feed_dict,\n\u001b[0;32m   1455\u001b[0m                                             \u001b[0mfetch_list\u001b[0m\u001b[1;33m,\u001b[0m \u001b[0mtarget_list\u001b[0m\u001b[1;33m,\u001b[0m\u001b[1;33m\u001b[0m\u001b[1;33m\u001b[0m\u001b[0m\n\u001b[1;32m-> 1456\u001b[1;33m                                             run_metadata)\n\u001b[0m\u001b[0;32m   1457\u001b[0m \u001b[1;33m\u001b[0m\u001b[0m\n\u001b[0;32m   1458\u001b[0m   \u001b[1;32mdef\u001b[0m \u001b[0m_call_tf_sessionprun\u001b[0m\u001b[1;33m(\u001b[0m\u001b[0mself\u001b[0m\u001b[1;33m,\u001b[0m \u001b[0mhandle\u001b[0m\u001b[1;33m,\u001b[0m \u001b[0mfeed_dict\u001b[0m\u001b[1;33m,\u001b[0m \u001b[0mfetch_list\u001b[0m\u001b[1;33m)\u001b[0m\u001b[1;33m:\u001b[0m\u001b[1;33m\u001b[0m\u001b[1;33m\u001b[0m\u001b[0m\n",
            "\u001b[1;31mKeyboardInterrupt\u001b[0m: "
          ]
        }
      ],
      "source": [
        "import numpy as np\n",
        "import tensorflow.compat.v1 as tf\n",
        "tf.disable_v2_behavior()\n",
        "\n",
        "nb_epochs = 200\n",
        "batch_size = 128\n",
        "nb_iterations = int(nb_samples / batch_size)\n",
        "\n",
        "session = tf.InteractiveSession(graph=graph)\n",
        "tf.global_variables_initializer().run()\n",
        "\n",
        "samples_range = np.arange(nb_samples)\n",
        "\n",
        "for e in range(nb_epochs * 5):\n",
        "    d_losses = []\n",
        "    g_losses = []\n",
        "    \n",
        "    for i in range(nb_iterations):\n",
        "        print(i,\"/\",nb_iterations)\n",
        "        Xi = np.random.choice(samples_range, size=batch_size)\n",
        "        X = np.expand_dims(X_train[Xi], axis=3)\n",
        "        Z = np.random.uniform(-1.0, 1.0, size=(batch_size, code_length)).astype(np.float32)\n",
        "        \n",
        "        _, d_loss = session.run([training_step_d, loss_d], \n",
        "                                feed_dict={\n",
        "                                    input_x: X,\n",
        "                                    input_z: Z,\n",
        "                                    is_training: True\n",
        "                                })\n",
        "        d_losses.append(d_loss)\n",
        "        \n",
        "        Z = np.random.uniform(-1.0, 1.0, size=(batch_size, code_length)).astype(np.float32)\n",
        "        \n",
        "        _, g_loss = session.run([training_step_g, loss_g], \n",
        "                                feed_dict={\n",
        "                                    input_x: X,\n",
        "                                    input_z: Z,\n",
        "                                    is_training: True\n",
        "                                })\n",
        "        \n",
        "        g_losses.append(g_loss)\n",
        "        \n",
        "    print('Epoch {}) Avg. discriminator loss: {} - Avg. generator loss: {}'.format(e + 1, np.mean(d_losses), np.mean(g_losses)))\n"
      ]
    },
    {
      "cell_type": "code",
      "execution_count": null,
      "id": "f647f41f",
      "metadata": {
        "id": "f647f41f"
      },
      "outputs": [],
      "source": [
        "Z = np.random.uniform(-1.0, 1.0, size=(50, code_length)).astype(np.float32)\n",
        "\n",
        "Ys = session.run([gen], \n",
        "                 feed_dict={\n",
        "                     input_z: Z,\n",
        "                     is_training: False\n",
        "                })\n",
        "\n",
        "Ys = np.squeeze((Ys[0] + 1.0) * 0.5 * 255.0).astype(np.uint8)\n"
      ]
    },
    {
      "cell_type": "code",
      "execution_count": null,
      "id": "2f3dd732",
      "metadata": {
        "id": "2f3dd732",
        "outputId": "54b3c402-7040-404a-8dda-c5bd98bf09e0"
      },
      "outputs": [
        {
          "data": {
            "image/png": "[encoded data removed]",
            "text/plain": [
              "<PIL.Image.Image image mode=RGB size=28x28>"
            ]
          },
          "metadata": {},
          "output_type": "display_data"
        },
        {
          "data": {
            "image/png": "[encoded data removed]",
            "text/plain": [
              "<PIL.Image.Image image mode=RGB size=64x64>"
            ]
          },
          "metadata": {},
          "output_type": "display_data"
        },
        {
          "name": "stdout",
          "output_type": "stream",
          "text": [
            "-\n"
          ]
        },
        {
          "data": {
            "image/png": "[encoded data removed]",
            "text/plain": [
              "<PIL.Image.Image image mode=RGB size=28x28>"
            ]
          },
          "metadata": {},
          "output_type": "display_data"
        },
        {
          "data": {
            "image/png": "[encoded data removed]",
            "text/plain": [
              "<PIL.Image.Image image mode=RGB size=64x64>"
            ]
          },
          "metadata": {},
          "output_type": "display_data"
        },
        {
          "name": "stdout",
          "output_type": "stream",
          "text": [
            "-\n"
          ]
        },
        {
          "data": {
            "image/png": "[encoded data removed]",
            "text/plain": [
              "<PIL.Image.Image image mode=RGB size=28x28>"
            ]
          },
          "metadata": {},
          "output_type": "display_data"
        },
        {
          "data": {
            "image/png": "[encoded data removed]",
            "text/plain": [
              "<PIL.Image.Image image mode=RGB size=64x64>"
            ]
          },
          "metadata": {},
          "output_type": "display_data"
        },
        {
          "name": "stdout",
          "output_type": "stream",
          "text": [
            "-\n"
          ]
        },
        {
          "data": {
            "image/png": "[encoded data removed]",
            "text/plain": [
              "<PIL.Image.Image image mode=RGB size=28x28>"
            ]
          },
          "metadata": {},
          "output_type": "display_data"
        },
        {
          "data": {
            "image/png": "[encoded data removed]",
            "text/plain": [
              "<PIL.Image.Image image mode=RGB size=64x64>"
            ]
          },
          "metadata": {},
          "output_type": "display_data"
        },
        {
          "name": "stdout",
          "output_type": "stream",
          "text": [
            "-\n"
          ]
        },
        {
          "data": {
            "image/png": "[encoded data removed]",
            "text/plain": [
              "<PIL.Image.Image image mode=RGB size=28x28>"
            ]
          },
          "metadata": {},
          "output_type": "display_data"
        },
        {
          "data": {
            "image/png": "[encoded data removed]",
            "text/plain": [
              "<PIL.Image.Image image mode=RGB size=64x64>"
            ]
          },
          "metadata": {},
          "output_type": "display_data"
        },
        {
          "name": "stdout",
          "output_type": "stream",
          "text": [
            "-\n"
          ]
        },
        {
          "data": {
            "image/png": "[encoded data removed]",
            "text/plain": [
              "<PIL.Image.Image image mode=RGB size=28x28>"
            ]
          },
          "metadata": {},
          "output_type": "display_data"
        },
        {
          "data": {
            "image/png": "[encoded data removed]",
            "text/plain": [
              "<PIL.Image.Image image mode=RGB size=64x64>"
            ]
          },
          "metadata": {},
          "output_type": "display_data"
        },
        {
          "name": "stdout",
          "output_type": "stream",
          "text": [
            "-\n"
          ]
        },
        {
          "data": {
            "image/png": "[encoded data removed]",
            "text/plain": [
              "<PIL.Image.Image image mode=RGB size=28x28>"
            ]
          },
          "metadata": {},
          "output_type": "display_data"
        },
        {
          "data": {
            "image/png": "[encoded data removed]",
            "text/plain": [
              "<PIL.Image.Image image mode=RGB size=64x64>"
            ]
          },
          "metadata": {},
          "output_type": "display_data"
        },
        {
          "name": "stdout",
          "output_type": "stream",
          "text": [
            "-\n"
          ]
        },
        {
          "data": {
            "image/png": "[encoded data removed]",
            "text/plain": [
              "<PIL.Image.Image image mode=RGB size=28x28>"
            ]
          },
          "metadata": {},
          "output_type": "display_data"
        },
        {
          "data": {
            "image/png": "[encoded data removed]",
            "text/plain": [
              "<PIL.Image.Image image mode=RGB size=64x64>"
            ]
          },
          "metadata": {},
          "output_type": "display_data"
        },
        {
          "name": "stdout",
          "output_type": "stream",
          "text": [
            "-\n"
          ]
        },
        {
          "data": {
            "image/png": "[encoded data removed]",
            "text/plain": [
              "<PIL.Image.Image image mode=RGB size=28x28>"
            ]
          },
          "metadata": {},
          "output_type": "display_data"
        },
        {
          "data": {
            "image/png": "[encoded data removed]",
            "text/plain": [
              "<PIL.Image.Image image mode=RGB size=64x64>"
            ]
          },
          "metadata": {},
          "output_type": "display_data"
        },
        {
          "name": "stdout",
          "output_type": "stream",
          "text": [
            "-\n"
          ]
        },
        {
          "data": {
            "image/png": "[encoded data removed]",
            "text/plain": [
              "<PIL.Image.Image image mode=RGB size=28x28>"
            ]
          },
          "metadata": {},
          "output_type": "display_data"
        },
        {
          "data": {
            "image/png": "[encoded data removed]",
            "text/plain": [
              "<PIL.Image.Image image mode=RGB size=64x64>"
            ]
          },
          "metadata": {},
          "output_type": "display_data"
        },
        {
          "name": "stdout",
          "output_type": "stream",
          "text": [
            "-\n"
          ]
        }
      ],
      "source": [
        "from PIL import Image\n",
        "\n",
        "for i in range(0,10):\n",
        "    im = Image.fromarray(X_train[i] * 255.0)\n",
        "    if im.mode != 'RGB':\n",
        "        im = im.convert('RGB')\n",
        "    display(im)\n",
        "    \n",
        "    im = Image.fromarray(Ys[i])\n",
        "    if im.mode != 'RGB':\n",
        "        im = im.convert('RGB')\n",
        "    display(im)\n",
        "    print(\"-\")"
      ]
    },
    {
      "cell_type": "markdown",
      "id": "874dcedb",
      "metadata": {
        "id": "874dcedb"
      },
      "source": [
        "#### WGAN"
      ]
    },
    {
      "cell_type": "code",
      "execution_count": null,
      "id": "9f06c44a",
      "metadata": {
        "id": "9f06c44a"
      },
      "outputs": [],
      "source": [
        "import tensorflow as tf\n",
        "from keras.layers import Dense, Flatten, Conv2D,Conv2DTranspose, BatchNormalization\n",
        "\n",
        "def critic(x, is_training=True, reuse_variables=True):\n",
        "    with tf.variable_scope('critic', reuse=reuse_variables):\n",
        "        conv_0 = Conv2D(filters=128,\n",
        "                                  kernel_size=(4, 4),\n",
        "                                  strides=(2, 2),\n",
        "                                  padding='same')(x)\n",
        "\n",
        "        conv_1 = Conv2D(filters=256,\n",
        "                                  kernel_size=(4, 4),\n",
        "                                  strides=(2, 2),\n",
        "                                  padding='same')(tf.nn.leaky_relu(conv_0))\n",
        "        \n",
        "        b_conv_1 = BatchNormalization()(conv_1, training=is_training)\n",
        "        \n",
        "        conv_2 = Conv2D(filters=512,\n",
        "                                  kernel_size=(4, 4),\n",
        "                                  strides=(2, 2),\n",
        "                                  padding='same')(tf.nn.leaky_relu(b_conv_1))\n",
        "        \n",
        "        b_conv_2 = BatchNormalization()(conv_2, training=is_training)\n",
        "        \n",
        "        conv_3 = Conv2D(filters=1024,\n",
        "                                  kernel_size=(4, 4),\n",
        "                                  strides=(2, 2),\n",
        "                                  padding='same')(tf.nn.leaky_relu(b_conv_2))\n",
        "        \n",
        "        b_conv_3 = BatchNormalization()(conv_3, training=is_training)\n",
        "        \n",
        "        conv_4 = Conv2D(filters=1,\n",
        "                                  kernel_size=(4, 4),\n",
        "                                  padding='valid')(tf.nn.leaky_relu(b_conv_3))\n",
        "        \n",
        "        return conv_4"
      ]
    },
    {
      "cell_type": "code",
      "execution_count": null,
      "id": "3684c8a7",
      "metadata": {
        "id": "3684c8a7"
      },
      "outputs": [],
      "source": [
        "import tensorflow.compat.v1 as tf\n",
        "tf.disable_v2_behavior()\n",
        "\n",
        "graph = tf.Graph()\n",
        "\n",
        "with graph.as_default():\n",
        "    input_x = tf.placeholder(tf.float32, shape=(None, width, height, 1))\n",
        "    input_z = tf.placeholder(tf.float32, shape=(None, code_length))\n",
        "    is_training = tf.placeholder(tf.bool)\n",
        "    \n",
        "    gen = generator(z=tf.reshape(input_z, (-1, 1, 1, code_length)), is_training=is_training)\n",
        "    \n",
        "    r_input_x = tf.image.resize_images(images=input_x, size=(64, 64))\n",
        "        \n",
        "    crit_1_l = critic(x=r_input_x, is_training=is_training, reuse_variables=False)\n",
        "    crit_2_l = critic(x=gen, is_training=is_training, reuse_variables=True)\n",
        "    \n",
        "    loss_c = tf.reduce_mean(crit_2_l - crit_1_l)\n",
        "    loss_g = tf.reduce_mean(-crit_2_l)\n",
        "    \n",
        "    variables_g = [variable for variable in tf.trainable_variables() if variable.name.startswith('generator')]\n",
        "    variables_c = [variable for variable in tf.trainable_variables() if variable.name.startswith('critic')]\n",
        "    \n",
        "    with tf.control_dependencies(tf.get_collection(tf.GraphKeys.UPDATE_OPS)):\n",
        "        optimizer_c = tf.train.AdamOptimizer(0.00005, beta1=0.5, beta2=0.9).minimize(loss=loss_c, var_list=variables_c)\n",
        "        \n",
        "        with tf.control_dependencies([optimizer_c]):\n",
        "            training_step_c = tf.tuple(tensors=[tf.assign(variable, tf.clip_by_value(variable, -0.01, 0.01)) \n",
        "                                                for variable in variables_c])\n",
        "        \n",
        "        training_step_g = tf.train.AdamOptimizer(0.00005, beta1=0.5, beta2=0.9).minimize(loss=loss_g, var_list=variables_g)\n"
      ]
    },
    {
      "cell_type": "code",
      "execution_count": null,
      "id": "aa7fa868",
      "metadata": {
        "id": "aa7fa868",
        "outputId": "c5189887-70dd-4810-bacd-0a60a0e92eb9"
      },
      "outputs": [
        {
          "name": "stdout",
          "output_type": "stream",
          "text": [
            "0 / 78 0 / 5\n",
            "0 / 78 1 / 5\n",
            "0 / 78 2 / 5\n"
          ]
        },
        {
          "ename": "KeyboardInterrupt",
          "evalue": "",
          "output_type": "error",
          "traceback": [
            "\u001b[1;31m---------------------------------------------------------------------------\u001b[0m",
            "\u001b[1;31mKeyboardInterrupt\u001b[0m                         Traceback (most recent call last)",
            "\u001b[1;32m~\\AppData\\Local\\Temp\\ipykernel_19140\\2345400009.py\u001b[0m in \u001b[0;36m<module>\u001b[1;34m\u001b[0m\n\u001b[0;32m     28\u001b[0m                                         \u001b[0minput_x\u001b[0m\u001b[1;33m:\u001b[0m \u001b[0mX\u001b[0m\u001b[1;33m,\u001b[0m\u001b[1;33m\u001b[0m\u001b[1;33m\u001b[0m\u001b[0m\n\u001b[0;32m     29\u001b[0m                                         \u001b[0minput_z\u001b[0m\u001b[1;33m:\u001b[0m \u001b[0mZ\u001b[0m\u001b[1;33m,\u001b[0m\u001b[1;33m\u001b[0m\u001b[1;33m\u001b[0m\u001b[0m\n\u001b[1;32m---> 30\u001b[1;33m                                         \u001b[0mis_training\u001b[0m\u001b[1;33m:\u001b[0m \u001b[1;32mTrue\u001b[0m\u001b[1;33m\u001b[0m\u001b[1;33m\u001b[0m\u001b[0m\n\u001b[0m\u001b[0;32m     31\u001b[0m                                     })\n\u001b[0;32m     32\u001b[0m             \u001b[0mc_losses\u001b[0m\u001b[1;33m.\u001b[0m\u001b[0mappend\u001b[0m\u001b[1;33m(\u001b[0m\u001b[0mc_loss\u001b[0m\u001b[1;33m)\u001b[0m\u001b[1;33m\u001b[0m\u001b[1;33m\u001b[0m\u001b[0m\n",
            "\u001b[1;32mD:\\Backup\\Dropbox\\Jupyter\\venv\\lib\\site-packages\\tensorflow\\python\\client\\session.py\u001b[0m in \u001b[0;36mrun\u001b[1;34m(self, fetches, feed_dict, options, run_metadata)\u001b[0m\n\u001b[0;32m    967\u001b[0m     \u001b[1;32mtry\u001b[0m\u001b[1;33m:\u001b[0m\u001b[1;33m\u001b[0m\u001b[1;33m\u001b[0m\u001b[0m\n\u001b[0;32m    968\u001b[0m       result = self._run(None, fetches, feed_dict, options_ptr,\n\u001b[1;32m--> 969\u001b[1;33m                          run_metadata_ptr)\n\u001b[0m\u001b[0;32m    970\u001b[0m       \u001b[1;32mif\u001b[0m \u001b[0mrun_metadata\u001b[0m\u001b[1;33m:\u001b[0m\u001b[1;33m\u001b[0m\u001b[1;33m\u001b[0m\u001b[0m\n\u001b[0;32m    971\u001b[0m         \u001b[0mproto_data\u001b[0m \u001b[1;33m=\u001b[0m \u001b[0mtf_session\u001b[0m\u001b[1;33m.\u001b[0m\u001b[0mTF_GetBuffer\u001b[0m\u001b[1;33m(\u001b[0m\u001b[0mrun_metadata_ptr\u001b[0m\u001b[1;33m)\u001b[0m\u001b[1;33m\u001b[0m\u001b[1;33m\u001b[0m\u001b[0m\n",
            "\u001b[1;32mD:\\Backup\\Dropbox\\Jupyter\\venv\\lib\\site-packages\\tensorflow\\python\\client\\session.py\u001b[0m in \u001b[0;36m_run\u001b[1;34m(self, handle, fetches, feed_dict, options, run_metadata)\u001b[0m\n\u001b[0;32m   1190\u001b[0m     \u001b[1;32mif\u001b[0m \u001b[0mfinal_fetches\u001b[0m \u001b[1;32mor\u001b[0m \u001b[0mfinal_targets\u001b[0m \u001b[1;32mor\u001b[0m \u001b[1;33m(\u001b[0m\u001b[0mhandle\u001b[0m \u001b[1;32mand\u001b[0m \u001b[0mfeed_dict_tensor\u001b[0m\u001b[1;33m)\u001b[0m\u001b[1;33m:\u001b[0m\u001b[1;33m\u001b[0m\u001b[1;33m\u001b[0m\u001b[0m\n\u001b[0;32m   1191\u001b[0m       results = self._do_run(handle, final_targets, final_fetches,\n\u001b[1;32m-> 1192\u001b[1;33m                              feed_dict_tensor, options, run_metadata)\n\u001b[0m\u001b[0;32m   1193\u001b[0m     \u001b[1;32melse\u001b[0m\u001b[1;33m:\u001b[0m\u001b[1;33m\u001b[0m\u001b[1;33m\u001b[0m\u001b[0m\n\u001b[0;32m   1194\u001b[0m       \u001b[0mresults\u001b[0m \u001b[1;33m=\u001b[0m \u001b[1;33m[\u001b[0m\u001b[1;33m]\u001b[0m\u001b[1;33m\u001b[0m\u001b[1;33m\u001b[0m\u001b[0m\n",
            "\u001b[1;32mD:\\Backup\\Dropbox\\Jupyter\\venv\\lib\\site-packages\\tensorflow\\python\\client\\session.py\u001b[0m in \u001b[0;36m_do_run\u001b[1;34m(self, handle, target_list, fetch_list, feed_dict, options, run_metadata)\u001b[0m\n\u001b[0;32m   1370\u001b[0m     \u001b[1;32mif\u001b[0m \u001b[0mhandle\u001b[0m \u001b[1;32mis\u001b[0m \u001b[1;32mNone\u001b[0m\u001b[1;33m:\u001b[0m\u001b[1;33m\u001b[0m\u001b[1;33m\u001b[0m\u001b[0m\n\u001b[0;32m   1371\u001b[0m       return self._do_call(_run_fn, feeds, fetches, targets, options,\n\u001b[1;32m-> 1372\u001b[1;33m                            run_metadata)\n\u001b[0m\u001b[0;32m   1373\u001b[0m     \u001b[1;32melse\u001b[0m\u001b[1;33m:\u001b[0m\u001b[1;33m\u001b[0m\u001b[1;33m\u001b[0m\u001b[0m\n\u001b[0;32m   1374\u001b[0m       \u001b[1;32mreturn\u001b[0m \u001b[0mself\u001b[0m\u001b[1;33m.\u001b[0m\u001b[0m_do_call\u001b[0m\u001b[1;33m(\u001b[0m\u001b[0m_prun_fn\u001b[0m\u001b[1;33m,\u001b[0m \u001b[0mhandle\u001b[0m\u001b[1;33m,\u001b[0m \u001b[0mfeeds\u001b[0m\u001b[1;33m,\u001b[0m \u001b[0mfetches\u001b[0m\u001b[1;33m)\u001b[0m\u001b[1;33m\u001b[0m\u001b[1;33m\u001b[0m\u001b[0m\n",
            "\u001b[1;32mD:\\Backup\\Dropbox\\Jupyter\\venv\\lib\\site-packages\\tensorflow\\python\\client\\session.py\u001b[0m in \u001b[0;36m_do_call\u001b[1;34m(self, fn, *args)\u001b[0m\n\u001b[0;32m   1376\u001b[0m   \u001b[1;32mdef\u001b[0m \u001b[0m_do_call\u001b[0m\u001b[1;33m(\u001b[0m\u001b[0mself\u001b[0m\u001b[1;33m,\u001b[0m \u001b[0mfn\u001b[0m\u001b[1;33m,\u001b[0m \u001b[1;33m*\u001b[0m\u001b[0margs\u001b[0m\u001b[1;33m)\u001b[0m\u001b[1;33m:\u001b[0m\u001b[1;33m\u001b[0m\u001b[1;33m\u001b[0m\u001b[0m\n\u001b[0;32m   1377\u001b[0m     \u001b[1;32mtry\u001b[0m\u001b[1;33m:\u001b[0m\u001b[1;33m\u001b[0m\u001b[1;33m\u001b[0m\u001b[0m\n\u001b[1;32m-> 1378\u001b[1;33m       \u001b[1;32mreturn\u001b[0m \u001b[0mfn\u001b[0m\u001b[1;33m(\u001b[0m\u001b[1;33m*\u001b[0m\u001b[0margs\u001b[0m\u001b[1;33m)\u001b[0m\u001b[1;33m\u001b[0m\u001b[1;33m\u001b[0m\u001b[0m\n\u001b[0m\u001b[0;32m   1379\u001b[0m     \u001b[1;32mexcept\u001b[0m \u001b[0merrors\u001b[0m\u001b[1;33m.\u001b[0m\u001b[0mOpError\u001b[0m \u001b[1;32mas\u001b[0m \u001b[0me\u001b[0m\u001b[1;33m:\u001b[0m\u001b[1;33m\u001b[0m\u001b[1;33m\u001b[0m\u001b[0m\n\u001b[0;32m   1380\u001b[0m       \u001b[0mmessage\u001b[0m \u001b[1;33m=\u001b[0m \u001b[0mcompat\u001b[0m\u001b[1;33m.\u001b[0m\u001b[0mas_text\u001b[0m\u001b[1;33m(\u001b[0m\u001b[0me\u001b[0m\u001b[1;33m.\u001b[0m\u001b[0mmessage\u001b[0m\u001b[1;33m)\u001b[0m\u001b[1;33m\u001b[0m\u001b[1;33m\u001b[0m\u001b[0m\n",
            "\u001b[1;32mD:\\Backup\\Dropbox\\Jupyter\\venv\\lib\\site-packages\\tensorflow\\python\\client\\session.py\u001b[0m in \u001b[0;36m_run_fn\u001b[1;34m(feed_dict, fetch_list, target_list, options, run_metadata)\u001b[0m\n\u001b[0;32m   1360\u001b[0m       \u001b[0mself\u001b[0m\u001b[1;33m.\u001b[0m\u001b[0m_extend_graph\u001b[0m\u001b[1;33m(\u001b[0m\u001b[1;33m)\u001b[0m\u001b[1;33m\u001b[0m\u001b[1;33m\u001b[0m\u001b[0m\n\u001b[0;32m   1361\u001b[0m       return self._call_tf_sessionrun(options, feed_dict, fetch_list,\n\u001b[1;32m-> 1362\u001b[1;33m                                       target_list, run_metadata)\n\u001b[0m\u001b[0;32m   1363\u001b[0m \u001b[1;33m\u001b[0m\u001b[0m\n\u001b[0;32m   1364\u001b[0m     \u001b[1;32mdef\u001b[0m \u001b[0m_prun_fn\u001b[0m\u001b[1;33m(\u001b[0m\u001b[0mhandle\u001b[0m\u001b[1;33m,\u001b[0m \u001b[0mfeed_dict\u001b[0m\u001b[1;33m,\u001b[0m \u001b[0mfetch_list\u001b[0m\u001b[1;33m)\u001b[0m\u001b[1;33m:\u001b[0m\u001b[1;33m\u001b[0m\u001b[1;33m\u001b[0m\u001b[0m\n",
            "\u001b[1;32mD:\\Backup\\Dropbox\\Jupyter\\venv\\lib\\site-packages\\tensorflow\\python\\client\\session.py\u001b[0m in \u001b[0;36m_call_tf_sessionrun\u001b[1;34m(self, options, feed_dict, fetch_list, target_list, run_metadata)\u001b[0m\n\u001b[0;32m   1454\u001b[0m     return tf_session.TF_SessionRun_wrapper(self._session, options, feed_dict,\n\u001b[0;32m   1455\u001b[0m                                             \u001b[0mfetch_list\u001b[0m\u001b[1;33m,\u001b[0m \u001b[0mtarget_list\u001b[0m\u001b[1;33m,\u001b[0m\u001b[1;33m\u001b[0m\u001b[1;33m\u001b[0m\u001b[0m\n\u001b[1;32m-> 1456\u001b[1;33m                                             run_metadata)\n\u001b[0m\u001b[0;32m   1457\u001b[0m \u001b[1;33m\u001b[0m\u001b[0m\n\u001b[0;32m   1458\u001b[0m   \u001b[1;32mdef\u001b[0m \u001b[0m_call_tf_sessionprun\u001b[0m\u001b[1;33m(\u001b[0m\u001b[0mself\u001b[0m\u001b[1;33m,\u001b[0m \u001b[0mhandle\u001b[0m\u001b[1;33m,\u001b[0m \u001b[0mfeed_dict\u001b[0m\u001b[1;33m,\u001b[0m \u001b[0mfetch_list\u001b[0m\u001b[1;33m)\u001b[0m\u001b[1;33m:\u001b[0m\u001b[1;33m\u001b[0m\u001b[1;33m\u001b[0m\u001b[0m\n",
            "\u001b[1;31mKeyboardInterrupt\u001b[0m: "
          ]
        }
      ],
      "source": [
        "import numpy as np\n",
        "import tensorflow.compat.v1 as tf\n",
        "tf.disable_v2_behavior()\n",
        "\n",
        "nb_epochs = 200\n",
        "nb_critic = 5\n",
        "batch_size = 64\n",
        "nb_iterations = int(nb_samples / batch_size)\n",
        "\n",
        "session = tf.InteractiveSession(graph=graph)\n",
        "tf.global_variables_initializer().run()\n",
        "\n",
        "samples_range = np.arange(nb_samples)\n",
        "\n",
        "for e in range(nb_epochs):\n",
        "    c_losses = []\n",
        "    g_losses = []\n",
        "    \n",
        "    for i in range(nb_iterations):\n",
        "        for j in range(nb_critic):\n",
        "            print(i,\"/\",nb_iterations, \"-\",j,\"/\", nb_critic)\n",
        "            Xi = np.random.choice(samples_range, size=batch_size)\n",
        "            X = np.expand_dims(X_train[Xi], axis=3)\n",
        "            Z = np.random.uniform(-1.0, 1.0, size=(batch_size, code_length)).astype(np.float32)\n",
        "            \n",
        "            _, c_loss = session.run([training_step_c, loss_c], \n",
        "                                    feed_dict={\n",
        "                                        input_x: X,\n",
        "                                        input_z: Z,\n",
        "                                        is_training: True\n",
        "                                    })\n",
        "            c_losses.append(c_loss)\n",
        "        \n",
        "        Z = np.random.uniform(-1.0, 1.0, size=(batch_size, code_length)).astype(np.float32)\n",
        "        \n",
        "        _, g_loss = session.run([training_step_g, loss_g], \n",
        "                                feed_dict={\n",
        "                                    input_x: np.zeros(shape=(batch_size, width, height, 1)),\n",
        "                                    input_z: Z,\n",
        "                                    is_training: True\n",
        "                                })\n",
        "        \n",
        "        g_losses.append(g_loss)\n",
        "        \n",
        "    print('Epoch {}) Avg. critic loss: {} - Avg. generator loss: {}'.format(e + 1, np.mean(c_losses), np.mean(g_losses)))\n"
      ]
    },
    {
      "cell_type": "code",
      "execution_count": null,
      "id": "3b6f8c07",
      "metadata": {
        "id": "3b6f8c07"
      },
      "outputs": [],
      "source": [
        "Z = np.random.uniform(-1.0, 1.0, size=(50, code_length)).astype(np.float32)\n",
        "\n",
        "Ys = session.run([gen], \n",
        "                 feed_dict={\n",
        "                     input_z: Z,\n",
        "                     is_training: False\n",
        "                })\n",
        "\n",
        "Ys = np.squeeze((Ys[0] + 1.0) * 0.5 * 255.0).astype(np.uint8)\n"
      ]
    },
    {
      "cell_type": "code",
      "execution_count": null,
      "id": "a73088da",
      "metadata": {
        "id": "a73088da",
        "outputId": "a08ed518-cee6-4b6a-f56d-eea87474ed1f"
      },
      "outputs": [
        {
          "data": {
            "image/png": "[encoded data removed]",
            "text/plain": [
              "<PIL.Image.Image image mode=RGB size=28x28>"
            ]
          },
          "metadata": {},
          "output_type": "display_data"
        },
        {
          "data": {
            "image/png": "[encoded data removed]",
            "text/plain": [
              "<PIL.Image.Image image mode=RGB size=64x64>"
            ]
          },
          "metadata": {},
          "output_type": "display_data"
        },
        {
          "name": "stdout",
          "output_type": "stream",
          "text": [
            "-\n"
          ]
        },
        {
          "data": {
            "image/png": "[encoded data removed]",
            "text/plain": [
              "<PIL.Image.Image image mode=RGB size=28x28>"
            ]
          },
          "metadata": {},
          "output_type": "display_data"
        },
        {
          "data": {
            "image/png": "[encoded data removed]",
            "text/plain": [
              "<PIL.Image.Image image mode=RGB size=64x64>"
            ]
          },
          "metadata": {},
          "output_type": "display_data"
        },
        {
          "name": "stdout",
          "output_type": "stream",
          "text": [
            "-\n"
          ]
        },
        {
          "data": {
            "image/png": "[encoded data removed]",
            "text/plain": [
              "<PIL.Image.Image image mode=RGB size=28x28>"
            ]
          },
          "metadata": {},
          "output_type": "display_data"
        },
        {
          "data": {
            "image/png": "[encoded data removed]",
            "text/plain": [
              "<PIL.Image.Image image mode=RGB size=64x64>"
            ]
          },
          "metadata": {},
          "output_type": "display_data"
        },
        {
          "name": "stdout",
          "output_type": "stream",
          "text": [
            "-\n"
          ]
        },
        {
          "data": {
            "image/png": "[encoded data removed]",
            "text/plain": [
              "<PIL.Image.Image image mode=RGB size=28x28>"
            ]
          },
          "metadata": {},
          "output_type": "display_data"
        },
        {
          "data": {
            "image/png": "[encoded data removed]",
            "text/plain": [
              "<PIL.Image.Image image mode=RGB size=64x64>"
            ]
          },
          "metadata": {},
          "output_type": "display_data"
        },
        {
          "name": "stdout",
          "output_type": "stream",
          "text": [
            "-\n"
          ]
        },
        {
          "data": {
            "image/png": "[encoded data removed]",
            "text/plain": [
              "<PIL.Image.Image image mode=RGB size=28x28>"
            ]
          },
          "metadata": {},
          "output_type": "display_data"
        },
        {
          "data": {
            "image/png": "[encoded data removed]",
            "text/plain": [
              "<PIL.Image.Image image mode=RGB size=64x64>"
            ]
          },
          "metadata": {},
          "output_type": "display_data"
        },
        {
          "name": "stdout",
          "output_type": "stream",
          "text": [
            "-\n"
          ]
        },
        {
          "data": {
            "image/png": "[encoded data removed]",
            "text/plain": [
              "<PIL.Image.Image image mode=RGB size=28x28>"
            ]
          },
          "metadata": {},
          "output_type": "display_data"
        },
        {
          "data": {
            "image/png": "[encoded data removed]",
            "text/plain": [
              "<PIL.Image.Image image mode=RGB size=64x64>"
            ]
          },
          "metadata": {},
          "output_type": "display_data"
        },
        {
          "name": "stdout",
          "output_type": "stream",
          "text": [
            "-\n"
          ]
        },
        {
          "data": {
            "image/png": "[encoded data removed]",
            "text/plain": [
              "<PIL.Image.Image image mode=RGB size=28x28>"
            ]
          },
          "metadata": {},
          "output_type": "display_data"
        },
        {
          "data": {
            "image/png": "[encoded data removed]",
            "text/plain": [
              "<PIL.Image.Image image mode=RGB size=64x64>"
            ]
          },
          "metadata": {},
          "output_type": "display_data"
        },
        {
          "name": "stdout",
          "output_type": "stream",
          "text": [
            "-\n"
          ]
        },
        {
          "data": {
            "image/png": "[encoded data removed]",
            "text/plain": [
              "<PIL.Image.Image image mode=RGB size=28x28>"
            ]
          },
          "metadata": {},
          "output_type": "display_data"
        },
        {
          "data": {
            "image/png": "[encoded data removed]",
            "text/plain": [
              "<PIL.Image.Image image mode=RGB size=64x64>"
            ]
          },
          "metadata": {},
          "output_type": "display_data"
        },
        {
          "name": "stdout",
          "output_type": "stream",
          "text": [
            "-\n"
          ]
        },
        {
          "data": {
            "image/png": "[encoded data removed]",
            "text/plain": [
              "<PIL.Image.Image image mode=RGB size=28x28>"
            ]
          },
          "metadata": {},
          "output_type": "display_data"
        },
        {
          "data": {
            "image/png": "[encoded data removed]",
            "text/plain": [
              "<PIL.Image.Image image mode=RGB size=64x64>"
            ]
          },
          "metadata": {},
          "output_type": "display_data"
        },
        {
          "name": "stdout",
          "output_type": "stream",
          "text": [
            "-\n"
          ]
        },
        {
          "data": {
            "image/png": "[encoded data removed]",
            "text/plain": [
              "<PIL.Image.Image image mode=RGB size=28x28>"
            ]
          },
          "metadata": {},
          "output_type": "display_data"
        },
        {
          "data": {
            "image/png": "[encoded data removed]",
            "text/plain": [
              "<PIL.Image.Image image mode=RGB size=64x64>"
            ]
          },
          "metadata": {},
          "output_type": "display_data"
        },
        {
          "name": "stdout",
          "output_type": "stream",
          "text": [
            "-\n"
          ]
        }
      ],
      "source": [
        "from PIL import Image\n",
        "\n",
        "for i in range(0,10):\n",
        "    im = Image.fromarray(X_train[i] * 255.0)\n",
        "    if im.mode != 'RGB':\n",
        "        im = im.convert('RGB')\n",
        "    display(im)\n",
        "    \n",
        "    im = Image.fromarray(Ys[i])\n",
        "    if im.mode != 'RGB':\n",
        "        im = im.convert('RGB')\n",
        "    display(im)\n",
        "    print(\"-\")"
      ]
    }
  ],
  "metadata": {
    "kernelspec": {
      "display_name": "Python 3 (ipykernel)",
      "language": "python",
      "name": "python3"
    },
    "language_info": {
      "codemirror_mode": {
        "name": "ipython",
        "version": 3
      },
      "file_extension": ".py",
      "mimetype": "text/x-python",
      "name": "python",
      "nbconvert_exporter": "python",
      "pygments_lexer": "ipython3",
      "version": "3.7.9"
    },
    "colab": {
      "provenance": []
    }
  },
  "nbformat": 4,
  "nbformat_minor": 5
}